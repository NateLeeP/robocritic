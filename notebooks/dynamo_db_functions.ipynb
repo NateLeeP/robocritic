{
 "cells": [
  {
   "cell_type": "code",
   "execution_count": 1,
   "id": "6bb3ff8d-80be-4e99-a2ea-44d82cfa044d",
   "metadata": {},
   "outputs": [],
   "source": [
    "import os\n",
    "os.getcwd()\n",
    "os.chdir(\"/Users/natepruitt/Projects/robocritic/\")"
   ]
  },
  {
   "cell_type": "code",
   "execution_count": 2,
   "id": "a40ebc8c-0ba4-4715-a53e-a419fddb6694",
   "metadata": {},
   "outputs": [
    {
     "data": {
      "text/plain": [
       "True"
      ]
     },
     "execution_count": 2,
     "metadata": {},
     "output_type": "execute_result"
    }
   ],
   "source": [
    "from dotenv import load_dotenv\n",
    "load_dotenv()"
   ]
  },
  {
   "cell_type": "code",
   "execution_count": 3,
   "id": "dadb6c05-6deb-49bd-84bb-7c388bd6037b",
   "metadata": {},
   "outputs": [],
   "source": [
    "import boto3\n",
    "from botocore.config import Config"
   ]
  },
  {
   "cell_type": "code",
   "execution_count": 7,
   "id": "2be75804-66d8-406e-829d-a236d5ad28b3",
   "metadata": {},
   "outputs": [],
   "source": [
    "client = boto3.client('dynamodb')"
   ]
  },
  {
   "cell_type": "code",
   "execution_count": 8,
   "id": "654cd6eb-1000-4366-9f77-6af60de2ed1a",
   "metadata": {},
   "outputs": [
    {
     "data": {
      "text/plain": [
       "{'TableNames': ['Games', 'Reviews'],\n",
       " 'ResponseMetadata': {'RequestId': 'SI9GA35LHPG2T8D8IKUCT6OA5BVV4KQNSO5AEMVJF66Q9ASUAAJG',\n",
       "  'HTTPStatusCode': 200,\n",
       "  'HTTPHeaders': {'server': 'Server',\n",
       "   'date': 'Sat, 13 Jan 2024 18:54:52 GMT',\n",
       "   'content-type': 'application/x-amz-json-1.0',\n",
       "   'content-length': '34',\n",
       "   'connection': 'keep-alive',\n",
       "   'x-amzn-requestid': 'SI9GA35LHPG2T8D8IKUCT6OA5BVV4KQNSO5AEMVJF66Q9ASUAAJG',\n",
       "   'x-amz-crc32': '893144030'},\n",
       "  'RetryAttempts': 0}}"
      ]
     },
     "execution_count": 8,
     "metadata": {},
     "output_type": "execute_result"
    }
   ],
   "source": [
    "client.list_tables()"
   ]
  },
  {
   "cell_type": "code",
   "execution_count": 18,
   "id": "cee89df2-0f84-4515-828e-51a876419db2",
   "metadata": {},
   "outputs": [
    {
     "data": {
      "text/plain": [
       "{'Items': [{'release_date': {'S': '2023-12-16'},\n",
       "   'title': {'S': 'The Last Word'}}],\n",
       " 'Count': 1,\n",
       " 'ScannedCount': 1,\n",
       " 'ResponseMetadata': {'RequestId': 'FES02JMJ5GD2TRQ1O4SVDQP8P7VV4KQNSO5AEMVJF66Q9ASUAAJG',\n",
       "  'HTTPStatusCode': 200,\n",
       "  'HTTPHeaders': {'server': 'Server',\n",
       "   'date': 'Sat, 13 Jan 2024 19:09:21 GMT',\n",
       "   'content-type': 'application/x-amz-json-1.0',\n",
       "   'content-length': '104',\n",
       "   'connection': 'keep-alive',\n",
       "   'x-amzn-requestid': 'FES02JMJ5GD2TRQ1O4SVDQP8P7VV4KQNSO5AEMVJF66Q9ASUAAJG',\n",
       "   'x-amz-crc32': '2529928749'},\n",
       "  'RetryAttempts': 0}}"
      ]
     },
     "execution_count": 18,
     "metadata": {},
     "output_type": "execute_result"
    }
   ],
   "source": [
    "client.query(TableName='Games', \n",
    "             Select='ALL_ATTRIBUTES', \n",
    "             KeyConditionExpression=\"title = :v1\", \n",
    "             ExpressionAttributeValues={\":v1\": {\"S\": \"The Last Word\"}})"
   ]
  },
  {
   "cell_type": "code",
   "execution_count": 20,
   "id": "cd3bff4f-e381-4e8c-8ce0-0d607d8928b6",
   "metadata": {},
   "outputs": [
    {
     "data": {
      "text/plain": [
       "{'Items': [{'release_date': {'S': '2023-10-31'}, 'title': {'S': 'Lies of P'}},\n",
       "  {'release_date': {'S': '2023-12-16'}, 'title': {'S': 'The Last Word'}}],\n",
       " 'Count': 2,\n",
       " 'ScannedCount': 2,\n",
       " 'ResponseMetadata': {'RequestId': '0RQU6LH6N9L1FM068AL2CB3IQFVV4KQNSO5AEMVJF66Q9ASUAAJG',\n",
       "  'HTTPStatusCode': 200,\n",
       "  'HTTPHeaders': {'server': 'Server',\n",
       "   'date': 'Sat, 13 Jan 2024 19:16:29 GMT',\n",
       "   'content-type': 'application/x-amz-json-1.0',\n",
       "   'content-length': '166',\n",
       "   'connection': 'keep-alive',\n",
       "   'x-amzn-requestid': '0RQU6LH6N9L1FM068AL2CB3IQFVV4KQNSO5AEMVJF66Q9ASUAAJG',\n",
       "   'x-amz-crc32': '2535424684'},\n",
       "  'RetryAttempts': 0}}"
      ]
     },
     "execution_count": 20,
     "metadata": {},
     "output_type": "execute_result"
    }
   ],
   "source": [
    "client.scan(TableName='Games', Select='ALL_ATTRIBUTES')"
   ]
  },
  {
   "cell_type": "code",
   "execution_count": 29,
   "id": "221763ca-277a-4b07-a856-9b12b9d57a8e",
   "metadata": {},
   "outputs": [],
   "source": [
    "# Need a scan of all reviews and games\n",
    "# Need to query reviews by game_title\n",
    "# Need to order dates by most recent.\n",
    "def my_key(x):\n",
    "    return x['release_date']['S']"
   ]
  },
  {
   "cell_type": "code",
   "execution_count": 54,
   "id": "6d484fe5-730b-4242-96bc-d08710eee136",
   "metadata": {},
   "outputs": [
    {
     "data": {
      "text/plain": [
       "[{'release_date': {'S': '2023-12-16'},\n",
       "  'title': {'S': 'Warhammer 40,000: Rogue Trader'}},\n",
       " {'release_date': {'S': '2023-12-11'}, 'title': {'S': 'The Day Before'}},\n",
       " {'release_date': {'S': '2024-01-13'}, 'title': {'S': 'Prince of Persia'}},\n",
       " {'release_date': {'S': '2023-12-18'}, 'title': {'S': 'The Finals'}},\n",
       " {'release_date': {'S': '2023-12-06'},\n",
       "  'title': {'S': 'Avatar: Frontiers of Pandora'}},\n",
       " {'release_date': {'S': '2023-12-15'}, 'title': {'S': 'Cookie Cutter'}},\n",
       " {'release_date': {'S': '2023-12-12'}, 'title': {'S': 'Lego Fortnite'}},\n",
       " {'release_date': {'S': '2023-10-31'}, 'title': {'S': 'Lies of P'}},\n",
       " {'release_date': {'S': '2023-12-15'},\n",
       "  'title': {'S': 'Granblue Fantasy Versus Rising'}},\n",
       " {'release_date': {'S': '2023-12-16'}, 'title': {'S': 'The Last Word'}}]"
      ]
     },
     "execution_count": 54,
     "metadata": {},
     "output_type": "execute_result"
    }
   ],
   "source": [
    "client.scan(TableName='Games')['Items']"
   ]
  },
  {
   "cell_type": "code",
   "execution_count": 55,
   "id": "e61d7e0f-3270-4d33-966b-5afb99d51d89",
   "metadata": {},
   "outputs": [],
   "source": [
    "items = client.scan(TableName='Games')['Items']"
   ]
  },
  {
   "cell_type": "code",
   "execution_count": 56,
   "id": "c782ba89-6415-4f2c-8b29-86347c9ebd6a",
   "metadata": {},
   "outputs": [],
   "source": [
    "items.sort(key=my_key, reverse=True)"
   ]
  },
  {
   "cell_type": "code",
   "execution_count": 57,
   "id": "e49cebb7-3aa6-48e5-b0c2-a4bedc1dcebe",
   "metadata": {},
   "outputs": [
    {
     "data": {
      "text/plain": [
       "[{'release_date': {'S': '2024-01-13'}, 'title': {'S': 'Prince of Persia'}},\n",
       " {'release_date': {'S': '2023-12-18'}, 'title': {'S': 'The Finals'}},\n",
       " {'release_date': {'S': '2023-12-16'},\n",
       "  'title': {'S': 'Warhammer 40,000: Rogue Trader'}},\n",
       " {'release_date': {'S': '2023-12-16'}, 'title': {'S': 'The Last Word'}},\n",
       " {'release_date': {'S': '2023-12-15'}, 'title': {'S': 'Cookie Cutter'}},\n",
       " {'release_date': {'S': '2023-12-15'},\n",
       "  'title': {'S': 'Granblue Fantasy Versus Rising'}},\n",
       " {'release_date': {'S': '2023-12-12'}, 'title': {'S': 'Lego Fortnite'}},\n",
       " {'release_date': {'S': '2023-12-11'}, 'title': {'S': 'The Day Before'}},\n",
       " {'release_date': {'S': '2023-12-06'},\n",
       "  'title': {'S': 'Avatar: Frontiers of Pandora'}},\n",
       " {'release_date': {'S': '2023-10-31'}, 'title': {'S': 'Lies of P'}}]"
      ]
     },
     "execution_count": 57,
     "metadata": {},
     "output_type": "execute_result"
    }
   ],
   "source": [
    "items"
   ]
  },
  {
   "cell_type": "code",
   "execution_count": 44,
   "id": "3fe60f24-5db9-4160-89ba-7eef6d40847b",
   "metadata": {},
   "outputs": [
    {
     "data": {
      "text/plain": [
       "'2023-12-16'"
      ]
     },
     "execution_count": 44,
     "metadata": {},
     "output_type": "execute_result"
    }
   ],
   "source": [
    "items[0]['release_date']['S']"
   ]
  },
  {
   "cell_type": "code",
   "execution_count": 49,
   "id": "9ff6c47f-0b9a-4313-aa3a-c4e19125277d",
   "metadata": {},
   "outputs": [
    {
     "data": {
      "text/plain": [
       "[{'release_date': {'S': '2024-01-13'}, 'title': {'S': 'Prince of Persia'}},\n",
       " {'release_date': {'S': '2023-12-18'}, 'title': {'S': 'The Finals'}},\n",
       " {'release_date': {'S': '2023-12-16'},\n",
       "  'title': {'S': 'Warhammer 40,000: Rogue Trader'}},\n",
       " {'release_date': {'S': '2023-12-16'}, 'title': {'S': 'The Last Word'}},\n",
       " {'release_date': {'S': '2023-12-15'}, 'title': {'S': 'Cookie Cutter'}},\n",
       " {'release_date': {'S': '2023-12-15'},\n",
       "  'title': {'S': 'Granblue Fantasy Versus Rising'}},\n",
       " {'release_date': {'S': '2023-12-12'}, 'title': {'S': 'Lego Fortnite'}},\n",
       " {'release_date': {'S': '2023-12-11'}, 'title': {'S': 'The Day Before'}},\n",
       " {'release_date': {'S': '2023-12-06'},\n",
       "  'title': {'S': 'Avatar: Frontiers of Pandora'}},\n",
       " {'release_date': {'S': '2023-10-31'}, 'title': {'S': 'Lies of P'}}]"
      ]
     },
     "execution_count": 49,
     "metadata": {},
     "output_type": "execute_result"
    }
   ],
   "source": [
    "sorted(items, key=my_key, reverse=True)"
   ]
  },
  {
   "cell_type": "code",
   "execution_count": 69,
   "id": "671efdeb-d1d8-457b-8989-4584824d2786",
   "metadata": {},
   "outputs": [],
   "source": [
    "items = client.query(TableName='GamesReleaseDate', KeyConditionExpression=\"SortByReleaseDate = :val\",\n",
    "                    ExpressionAttributeValues={\":val\": {\"N\": \"1\"}}, ScanIndexForward=False, Limit=5)"
   ]
  },
  {
   "cell_type": "code",
   "execution_count": 70,
   "id": "92b06da7-02e6-4714-b303-a21e8f44fea3",
   "metadata": {},
   "outputs": [
    {
     "data": {
      "text/plain": [
       "{'Items': [{'ReleaseDate_GameTitle': {'S': '2024-01-13_Prince of Persia'},\n",
       "   'SortByReleaseDate': {'N': '1'}},\n",
       "  {'ReleaseDate_GameTitle': {'S': '2023-12-18_The Finals'},\n",
       "   'SortByReleaseDate': {'N': '1'}},\n",
       "  {'ReleaseDate_GameTitle': {'S': '2023-12-16_Warhammer 40,000: Rogue Trader'},\n",
       "   'SortByReleaseDate': {'N': '1'}},\n",
       "  {'ReleaseDate_GameTitle': {'S': '2023-12-16_The Last Word'},\n",
       "   'SortByReleaseDate': {'N': '1'}},\n",
       "  {'ReleaseDate_GameTitle': {'S': '2023-12-15_Granblue Fantasy Versus Rising'},\n",
       "   'SortByReleaseDate': {'N': '1'}}],\n",
       " 'Count': 5,\n",
       " 'ScannedCount': 5,\n",
       " 'LastEvaluatedKey': {'ReleaseDate_GameTitle': {'S': '2023-12-15_Granblue Fantasy Versus Rising'},\n",
       "  'SortByReleaseDate': {'N': '1'}},\n",
       " 'ResponseMetadata': {'RequestId': 'PRLD3RS1SCM4C8L1QJV4TIG80RVV4KQNSO5AEMVJF66Q9ASUAAJG',\n",
       "  'HTTPStatusCode': 200,\n",
       "  'HTTPHeaders': {'server': 'Server',\n",
       "   'date': 'Sat, 13 Jan 2024 21:04:02 GMT',\n",
       "   'content-type': 'application/x-amz-json-1.0',\n",
       "   'content-length': '642',\n",
       "   'connection': 'keep-alive',\n",
       "   'x-amzn-requestid': 'PRLD3RS1SCM4C8L1QJV4TIG80RVV4KQNSO5AEMVJF66Q9ASUAAJG',\n",
       "   'x-amz-crc32': '2949663208'},\n",
       "  'RetryAttempts': 0}}"
      ]
     },
     "execution_count": 70,
     "metadata": {},
     "output_type": "execute_result"
    }
   ],
   "source": [
    "items"
   ]
  },
  {
   "cell_type": "code",
   "execution_count": 73,
   "id": "0c4b2a07-f727-4959-9359-d1c587186393",
   "metadata": {},
   "outputs": [],
   "source": [
    "## b\n",
    "\n",
    "class GamesReleaseDate():\n",
    "    def __init__(self):\n",
    "        self.db_client = boto3.client(\"dynamodb\")\n",
    "\n",
    "    def get_recent_games(self, limit=10):\n",
    "        \"\"\" Return the most recent games. Limit return with passed 'limit' argument \"\"\"\n",
    "        items = client.query(TableName=\"GamesReleaseDate\", KeyConditionExpression=\"SortByReleaseDate = :val\",\n",
    "                             ExpressionAttributeValues={\":val\": {\"N\": \"1\"}}, ScanIndexForward=False, Limit=limit)\n",
    "        return items\n",
    "\n",
    "\n"
   ]
  },
  {
   "cell_type": "code",
   "execution_count": 75,
   "id": "659fc549-db47-48dc-ba8a-ac0808af1032",
   "metadata": {},
   "outputs": [
    {
     "data": {
      "text/plain": [
       "{'Items': [{'ReleaseDate_GameTitle': {'S': '2024-01-13_Prince of Persia'},\n",
       "   'SortByReleaseDate': {'N': '1'}},\n",
       "  {'ReleaseDate_GameTitle': {'S': '2023-12-18_The Finals'},\n",
       "   'SortByReleaseDate': {'N': '1'}},\n",
       "  {'ReleaseDate_GameTitle': {'S': '2023-12-16_Warhammer 40,000: Rogue Trader'},\n",
       "   'SortByReleaseDate': {'N': '1'}},\n",
       "  {'ReleaseDate_GameTitle': {'S': '2023-12-16_The Last Word'},\n",
       "   'SortByReleaseDate': {'N': '1'}},\n",
       "  {'ReleaseDate_GameTitle': {'S': '2023-12-15_Granblue Fantasy Versus Rising'},\n",
       "   'SortByReleaseDate': {'N': '1'}}],\n",
       " 'Count': 5,\n",
       " 'ScannedCount': 5,\n",
       " 'LastEvaluatedKey': {'ReleaseDate_GameTitle': {'S': '2023-12-15_Granblue Fantasy Versus Rising'},\n",
       "  'SortByReleaseDate': {'N': '1'}},\n",
       " 'ResponseMetadata': {'RequestId': 'ETBGV8N2K8N6K8HVG0RR7D4M3NVV4KQNSO5AEMVJF66Q9ASUAAJG',\n",
       "  'HTTPStatusCode': 200,\n",
       "  'HTTPHeaders': {'server': 'Server',\n",
       "   'date': 'Sat, 13 Jan 2024 21:09:59 GMT',\n",
       "   'content-type': 'application/x-amz-json-1.0',\n",
       "   'content-length': '642',\n",
       "   'connection': 'keep-alive',\n",
       "   'x-amzn-requestid': 'ETBGV8N2K8N6K8HVG0RR7D4M3NVV4KQNSO5AEMVJF66Q9ASUAAJG',\n",
       "   'x-amz-crc32': '2949663208'},\n",
       "  'RetryAttempts': 0}}"
      ]
     },
     "execution_count": 75,
     "metadata": {},
     "output_type": "execute_result"
    }
   ],
   "source": [
    "games_release_date_service = GamesReleaseDate()\n",
    "games_release_date_service.get_recent_games(limit=5)"
   ]
  },
  {
   "cell_type": "code",
   "execution_count": null,
   "id": "e6371078-7fd9-4f13-8bd9-5e55b3a131b4",
   "metadata": {},
   "outputs": [],
   "source": []
  }
 ],
 "metadata": {
  "kernelspec": {
   "display_name": "Python 3 (ipykernel)",
   "language": "python",
   "name": "python3"
  },
  "language_info": {
   "codemirror_mode": {
    "name": "ipython",
    "version": 3
   },
   "file_extension": ".py",
   "mimetype": "text/x-python",
   "name": "python",
   "nbconvert_exporter": "python",
   "pygments_lexer": "ipython3",
   "version": "3.9.13"
  }
 },
 "nbformat": 4,
 "nbformat_minor": 5
}
