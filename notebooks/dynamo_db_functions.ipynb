{
 "cells": [
  {
   "cell_type": "code",
   "execution_count": 1,
   "id": "86cfc80d-78df-48a1-b095-5c583b2d660e",
   "metadata": {},
   "outputs": [],
   "source": [
    "import os\n",
    "os.chdir(\"/Users/natepruitt/Projects/robocritic/\")"
   ]
  },
  {
   "cell_type": "code",
   "execution_count": 2,
   "id": "dadb6c05-6deb-49bd-84bb-7c388bd6037b",
   "metadata": {},
   "outputs": [],
   "source": [
    "import boto3\n",
    "from helper_functions.query_functions import GameReleaseDate, Reviews"
   ]
  },
  {
   "cell_type": "code",
   "execution_count": null,
   "id": "e9d7df5c-5219-430f-a794-015c54312ef2",
   "metadata": {},
   "outputs": [],
   "source": [
    "response = GameReleaseDate().write_item('2018-09-25_Pathfinder: Kingmaker')"
   ]
  },
  {
   "cell_type": "code",
   "execution_count": 5,
   "id": "2be75804-66d8-406e-829d-a236d5ad28b3",
   "metadata": {},
   "outputs": [],
   "source": [
    "response = Reviews().get_all_reviews_by_game_title('Pathfinder: Kingmaker')"
   ]
  },
  {
   "cell_type": "code",
   "execution_count": 6,
   "id": "c3a36f21-652b-45f5-bee4-d48406fa8483",
   "metadata": {},
   "outputs": [
    {
     "data": {
      "text/plain": [
       "[{'GameTitle': {'S': 'Pathfinder: Kingmaker'},\n",
       "  'ReviewPublisherName': {'S': 'PCGamer'}},\n",
       " {'GameTitle': {'S': 'Pathfinder: Kingmaker'},\n",
       "  'ReviewPublisherName': {'S': 'IGN'}}]"
      ]
     },
     "execution_count": 6,
     "metadata": {},
     "output_type": "execute_result"
    }
   ],
   "source": [
    "response"
   ]
  },
  {
   "cell_type": "code",
   "execution_count": null,
   "id": "654cd6eb-1000-4366-9f77-6af60de2ed1a",
   "metadata": {},
   "outputs": [],
   "source": [
    "client.list_tables()"
   ]
  },
  {
   "cell_type": "code",
   "execution_count": null,
   "id": "cee89df2-0f84-4515-828e-51a876419db2",
   "metadata": {},
   "outputs": [],
   "source": [
    "client.query(TableName='Games', \n",
    "             Select='ALL_ATTRIBUTES', \n",
    "             KeyConditionExpression=\"title = :v1\", \n",
    "             ExpressionAttributeValues={\":v1\": {\"S\": \"The Last Word\"}})"
   ]
  },
  {
   "cell_type": "code",
   "execution_count": null,
   "id": "cd3bff4f-e381-4e8c-8ce0-0d607d8928b6",
   "metadata": {},
   "outputs": [],
   "source": [
    "client.scan(TableName='Games', Select='ALL_ATTRIBUTES')"
   ]
  },
  {
   "cell_type": "code",
   "execution_count": null,
   "id": "221763ca-277a-4b07-a856-9b12b9d57a8e",
   "metadata": {},
   "outputs": [],
   "source": [
    "# Need a scan of all reviews and games\n",
    "# Need to query reviews by game_title\n",
    "# Need to order dates by most recent.\n",
    "def my_key(x):\n",
    "    return x['release_date']['S']"
   ]
  },
  {
   "cell_type": "code",
   "execution_count": null,
   "id": "6d484fe5-730b-4242-96bc-d08710eee136",
   "metadata": {},
   "outputs": [],
   "source": [
    "client.scan(TableName='Games')['Items']"
   ]
  },
  {
   "cell_type": "code",
   "execution_count": null,
   "id": "e61d7e0f-3270-4d33-966b-5afb99d51d89",
   "metadata": {},
   "outputs": [],
   "source": [
    "items = client.scan(TableName='Games')['Items']"
   ]
  },
  {
   "cell_type": "code",
   "execution_count": null,
   "id": "c782ba89-6415-4f2c-8b29-86347c9ebd6a",
   "metadata": {},
   "outputs": [],
   "source": [
    "items.sort(key=my_key, reverse=True)"
   ]
  },
  {
   "cell_type": "code",
   "execution_count": null,
   "id": "e49cebb7-3aa6-48e5-b0c2-a4bedc1dcebe",
   "metadata": {},
   "outputs": [],
   "source": [
    "items"
   ]
  },
  {
   "cell_type": "code",
   "execution_count": null,
   "id": "3fe60f24-5db9-4160-89ba-7eef6d40847b",
   "metadata": {},
   "outputs": [],
   "source": [
    "items[0]['release_date']['S']"
   ]
  },
  {
   "cell_type": "code",
   "execution_count": null,
   "id": "9ff6c47f-0b9a-4313-aa3a-c4e19125277d",
   "metadata": {},
   "outputs": [],
   "source": [
    "sorted(items, key=my_key, reverse=True)"
   ]
  },
  {
   "cell_type": "code",
   "execution_count": null,
   "id": "671efdeb-d1d8-457b-8989-4584824d2786",
   "metadata": {},
   "outputs": [],
   "source": [
    "items = client.query(TableName='GamesReleaseDate', KeyConditionExpression=\"SortByReleaseDate = :val\",\n",
    "                    ExpressionAttributeValues={\":val\": {\"N\": \"1\"}}, ScanIndexForward=False, Limit=5)"
   ]
  },
  {
   "cell_type": "code",
   "execution_count": null,
   "id": "92b06da7-02e6-4714-b303-a21e8f44fea3",
   "metadata": {},
   "outputs": [],
   "source": [
    "items"
   ]
  },
  {
   "cell_type": "code",
   "execution_count": null,
   "id": "0c4b2a07-f727-4959-9359-d1c587186393",
   "metadata": {},
   "outputs": [],
   "source": [
    "## b\n",
    "\n",
    "class GamesReleaseDate():\n",
    "    def __init__(self):\n",
    "        self.db_client = boto3.client(\"dynamodb\")\n",
    "\n",
    "    def get_recent_games(self, limit=10):\n",
    "        \"\"\" Return the most recent games. Limit return with passed 'limit' argument \"\"\"\n",
    "        response = self.db_client.query(TableName=\"GamesReleaseDate\", KeyConditionExpression=\"SortByReleaseDate = :val\",\n",
    "                             ExpressionAttributeValues={\":val\": {\"N\": \"1\"}}, ScanIndexForward=False, Limit=limit)\n",
    "        return response['Items']\n",
    "\n",
    "\n"
   ]
  },
  {
   "cell_type": "code",
   "execution_count": null,
   "id": "659fc549-db47-48dc-ba8a-ac0808af1032",
   "metadata": {},
   "outputs": [],
   "source": [
    "games_release_date_service = GamesReleaseDate()\n",
    "games_release_date_service.get_recent_games(limit=5)"
   ]
  },
  {
   "cell_type": "code",
   "execution_count": null,
   "id": "e6371078-7fd9-4f13-8bd9-5e55b3a131b4",
   "metadata": {},
   "outputs": [],
   "source": [
    "response = client.put_item(TableName='GamesReleaseDate',\n",
    "                           Item={'SortByReleaseDate': {'N': '1'}, 'ReleaseDate_GameTitle': {'S': '2017-05-04_Prey'}},\n",
    "                           ConditionExpression='attribute_not_exists(ReleaseDate_GameTitle)'\n",
    "                          )\n",
    "\n"
   ]
  },
  {
   "cell_type": "code",
   "execution_count": 3,
   "id": "e4334fb4-446f-40ff-b7ce-6bcfabf27188",
   "metadata": {},
   "outputs": [],
   "source": [
    "response = Reviews().write_item('Prey', \n",
    "                                'Nate Review', \n",
    "                                '2017-05-04', \n",
    "                                [\"Excellent atmospher\", \"engaging characters\", \"Spooky\"], \n",
    "                                [\"No engaging boss fights\", \"Imbalance among Neuromods\"], \n",
    "                                9)"
   ]
  },
  {
   "cell_type": "code",
   "execution_count": 4,
   "id": "2b78af34-0dbb-48cf-a870-4d99db3e46d8",
   "metadata": {},
   "outputs": [
    {
     "data": {
      "text/plain": [
       "{'ResponseMetadata': {'RequestId': 'MN141UAQFRS6KO0PLT6IMFHKHVVV4KQNSO5AEMVJF66Q9ASUAAJG',\n",
       "  'HTTPStatusCode': 200,\n",
       "  'HTTPHeaders': {'server': 'Server',\n",
       "   'date': 'Mon, 15 Jan 2024 13:42:20 GMT',\n",
       "   'content-type': 'application/x-amz-json-1.0',\n",
       "   'content-length': '2',\n",
       "   'connection': 'keep-alive',\n",
       "   'x-amzn-requestid': 'MN141UAQFRS6KO0PLT6IMFHKHVVV4KQNSO5AEMVJF66Q9ASUAAJG',\n",
       "   'x-amz-crc32': '2745614147'},\n",
       "  'RetryAttempts': 0}}"
      ]
     },
     "execution_count": 4,
     "metadata": {},
     "output_type": "execute_result"
    }
   ],
   "source": [
    "response"
   ]
  },
  {
   "cell_type": "code",
   "execution_count": null,
   "id": "65bf82f5-31bc-4411-a17d-4d53233a482d",
   "metadata": {},
   "outputs": [],
   "source": []
  }
 ],
 "metadata": {
  "kernelspec": {
   "display_name": "Python 3 (ipykernel)",
   "language": "python",
   "name": "python3"
  },
  "language_info": {
   "codemirror_mode": {
    "name": "ipython",
    "version": 3
   },
   "file_extension": ".py",
   "mimetype": "text/x-python",
   "name": "python",
   "nbconvert_exporter": "python",
   "pygments_lexer": "ipython3",
   "version": "3.9.13"
  }
 },
 "nbformat": 4,
 "nbformat_minor": 5
}
