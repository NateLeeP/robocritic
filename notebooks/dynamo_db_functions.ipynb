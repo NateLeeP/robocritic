{
 "cells": [
  {
   "cell_type": "code",
   "execution_count": 1,
   "id": "86cfc80d-78df-48a1-b095-5c583b2d660e",
   "metadata": {},
   "outputs": [],
   "source": [
    "import os\n",
    "os.chdir(\"/Users/natepruitt/Projects/robocritic/\")"
   ]
  },
  {
   "cell_type": "code",
   "execution_count": 2,
   "id": "dadb6c05-6deb-49bd-84bb-7c388bd6037b",
   "metadata": {},
   "outputs": [],
   "source": [
    "import boto3\n",
    "from helper_functions.query_functions import GameReleaseDate, Reviews"
   ]
  },
  {
   "cell_type": "code",
   "execution_count": 3,
   "id": "e9d7df5c-5219-430f-a794-015c54312ef2",
   "metadata": {},
   "outputs": [
    {
     "name": "stdout",
     "output_type": "stream",
     "text": [
      "Item already exists 2018-09-25_Pathfinder: Kingmaker\n"
     ]
    }
   ],
   "source": [
    "response = GameReleaseDate().write_item('2018-09-25_Pathfinder: Kingmaker')"
   ]
  },
  {
   "cell_type": "code",
   "execution_count": null,
   "id": "8ba1c8cd-8012-4dd9-99d5-5ff68fb65e39",
   "metadata": {},
   "outputs": [],
   "source": [
    "response"
   ]
  },
  {
   "cell_type": "code",
   "execution_count": null,
   "id": "2be75804-66d8-406e-829d-a236d5ad28b3",
   "metadata": {},
   "outputs": [],
   "source": [
    "response = Reviews().get_all_reviews_by_game_title('Pathfinder: Kingmaker')"
   ]
  },
  {
   "cell_type": "code",
   "execution_count": null,
   "id": "659fc549-db47-48dc-ba8a-ac0808af1032",
   "metadata": {},
   "outputs": [],
   "source": [
    "games_release_date_service = GamesReleaseDate()\n",
    "games_release_date_service.get_recent_games(limit=5)"
   ]
  },
  {
   "cell_type": "code",
   "execution_count": 4,
   "id": "e4334fb4-446f-40ff-b7ce-6bcfabf27188",
   "metadata": {},
   "outputs": [
    {
     "name": "stdout",
     "output_type": "stream",
     "text": [
      "Item already exists Prey and Nate Review - Redux\n"
     ]
    }
   ],
   "source": [
    "response = Reviews().write_item('Prey', \n",
    "                                'Nate Review - Redux', \n",
    "                                '2017-05-04', \n",
    "                                [\" atmospher\", \"engaging characters\", \"Spooky\"], \n",
    "                                [\"No engaging boss fights\", \"Imbalance among Neuromods\"], \n",
    "                                9)"
   ]
  },
  {
   "cell_type": "code",
   "execution_count": null,
   "id": "2b78af34-0dbb-48cf-a870-4d99db3e46d8",
   "metadata": {},
   "outputs": [],
   "source": [
    "response"
   ]
  },
  {
   "cell_type": "code",
   "execution_count": null,
   "id": "65bf82f5-31bc-4411-a17d-4d53233a482d",
   "metadata": {},
   "outputs": [],
   "source": []
  }
 ],
 "metadata": {
  "kernelspec": {
   "display_name": "Python 3 (ipykernel)",
   "language": "python",
   "name": "python3"
  },
  "language_info": {
   "codemirror_mode": {
    "name": "ipython",
    "version": 3
   },
   "file_extension": ".py",
   "mimetype": "text/x-python",
   "name": "python",
   "nbconvert_exporter": "python",
   "pygments_lexer": "ipython3",
   "version": "3.9.13"
  }
 },
 "nbformat": 4,
 "nbformat_minor": 5
}
