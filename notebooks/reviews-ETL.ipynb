{
 "cells": [
  {
   "cell_type": "code",
   "execution_count": 1,
   "id": "13495731-a1c8-49b9-bd18-23567d36e0cb",
   "metadata": {},
   "outputs": [],
   "source": [
    "import os\n",
    "os.chdir('/Users/natepruitt/Projects/robocritic/')"
   ]
  },
  {
   "cell_type": "code",
   "execution_count": 2,
   "id": "6b3b82e6-da9d-4fe8-8d51-4fc0e97bbd1b",
   "metadata": {},
   "outputs": [
    {
     "name": "stdout",
     "output_type": "stream",
     "text": [
      "The error '2003 (HY000): Can't connect to MySQL server on 'localhost:3306' (61)' occurred\n"
     ]
    }
   ],
   "source": [
    "from helper_functions.db_connection import connection\n",
    "from helper_functions.query_functions import execute_read_query"
   ]
  },
  {
   "cell_type": "code",
   "execution_count": 3,
   "id": "c83d47b5-09a0-47f6-86ab-1b3dd18755c5",
   "metadata": {},
   "outputs": [],
   "source": [
    "query = \"SELECT * FROM game;\""
   ]
  },
  {
   "cell_type": "code",
   "execution_count": 4,
   "id": "46a0bd05-044c-42b1-946f-0bb69314ec3a",
   "metadata": {},
   "outputs": [
    {
     "name": "stdout",
     "output_type": "stream",
     "text": [
      "[(1, 'The Last Faith', datetime.date(2023, 11, 15), None), (2, 'Avatar: Frontiers of Pandora', datetime.date(2023, 12, 6), datetime.datetime(2023, 12, 7, 12, 6, 10)), (5, 'The Finals', datetime.date(2023, 12, 8), datetime.datetime(2023, 12, 19, 12, 46, 51)), (6, 'Warhammer 40,000: Rogue Trader', datetime.date(2023, 12, 7), datetime.datetime(2023, 12, 19, 12, 57, 18)), (31, 'Fortnite Rocket Racing', datetime.date(2023, 12, 21), datetime.datetime(2023, 12, 21, 13, 41, 20)), (32, 'Silent Hill: Ascension', datetime.date(2023, 10, 31), datetime.datetime(2023, 12, 21, 13, 41, 20)), (33, 'Pokemon Scarlet and Violet: The Indigo Disk DLC', datetime.date(2023, 12, 21), datetime.datetime(2023, 12, 21, 13, 41, 21)), (34, 'Resident Evil 4 Remake VR', datetime.date(2023, 12, 21), datetime.datetime(2023, 12, 21, 13, 41, 21)), (35, 'Granblue Fantasy Versus Rising', datetime.date(2023, 12, 14), datetime.datetime(2023, 12, 21, 13, 41, 22)), (36, 'Cookie Cutter', datetime.date(2023, 12, 14), datetime.datetime(2023, 12, 21, 13, 41, 22)), (37, 'House Flipper 2', datetime.date(2023, 12, 14), datetime.datetime(2023, 12, 21, 13, 41, 22)), (38, 'Fortnite Festival', datetime.date(2023, 12, 9), datetime.datetime(2023, 12, 21, 13, 41, 23))]\n"
     ]
    }
   ],
   "source": [
    "print(execute_read_query(connection, query))"
   ]
  },
  {
   "cell_type": "code",
   "execution_count": 6,
   "id": "7b244ad0-ded9-41b0-8a81-9565435b4aef",
   "metadata": {},
   "outputs": [],
   "source": [
    "games = execute_read_query(connection, query)\n",
    "last_faith = games[0]"
   ]
  },
  {
   "cell_type": "code",
   "execution_count": 7,
   "id": "00e2ffe1-4de2-408f-9ff2-89d3dbdeefff",
   "metadata": {},
   "outputs": [],
   "source": [
    "last_faith_name = last_faith[1].replace(\" \", \"-\").casefold()"
   ]
  },
  {
   "cell_type": "code",
   "execution_count": 8,
   "id": "5787130f-b856-440b-bd39-9eddd68f75a1",
   "metadata": {},
   "outputs": [
    {
     "data": {
      "text/plain": [
       "[(1,\n",
       "  'IGN',\n",
       "  'https://www.ign.com/articles/{game_name}-review',\n",
       "  datetime.datetime(2023, 11, 29, 12, 3, 28)),\n",
       " (2,\n",
       "  'PC Gamer',\n",
       "  'https://www.pcgamer.com/{game_name}-review',\n",
       "  datetime.datetime(2023, 11, 29, 12, 3, 28)),\n",
       " (3,\n",
       "  'GameSpot',\n",
       "  'https://www.gamespot.com/games/{game_name}/reviews/',\n",
       "  datetime.datetime(2023, 11, 29, 11, 48, 23))]"
      ]
     },
     "execution_count": 8,
     "metadata": {},
     "output_type": "execute_result"
    }
   ],
   "source": [
    "publishers_query = \"SELECT * FROM publisher\"\n",
    "publishers = execute_read_query(connection, publishers_query)\n",
    "publishers"
   ]
  },
  {
   "cell_type": "code",
   "execution_count": 9,
   "id": "34f8c8df-10db-483e-ac12-612f99197f40",
   "metadata": {},
   "outputs": [
    {
     "data": {
      "text/plain": [
       "'https://www.ign.com/articles/the-last-faith-review'"
      ]
     },
     "execution_count": 9,
     "metadata": {},
     "output_type": "execute_result"
    }
   ],
   "source": [
    "publishers[0][2].format(game_name = last_faith_name)"
   ]
  },
  {
   "cell_type": "code",
   "execution_count": 9,
   "id": "6deea078-b03d-4492-ad97-04dea8ee91e2",
   "metadata": {},
   "outputs": [],
   "source": [
    "from bs4 import BeautifulSoup\n",
    "import requests\n",
    "# soup = BeautifulSoup(, 'html.parser')"
   ]
  },
  {
   "cell_type": "code",
   "execution_count": 10,
   "id": "9c927464-7a94-4d71-bd32-9d04fbfcf5aa",
   "metadata": {},
   "outputs": [],
   "source": [
    "headermap = {\"User-Agent\": \"Mac Firefox\"}\n",
    "ign = requests.get('https://www.ign.com/articles/the-last-faith-review', headers=headermap)"
   ]
  },
  {
   "cell_type": "code",
   "execution_count": 11,
   "id": "e565f985-3d43-4116-a93c-469a0cbcd83b",
   "metadata": {},
   "outputs": [],
   "source": [
    "soup = BeautifulSoup(ign.content, 'html.parser')"
   ]
  },
  {
   "cell_type": "code",
   "execution_count": 16,
   "id": "ff2d2188-accc-40b3-9516-ca9773b4ecf2",
   "metadata": {},
   "outputs": [
    {
     "data": {
      "text/plain": [
       "[<figcaption class=\"interface jsx-3120535758 jsx-957202555 tile-title balanced bold\">Hollow Knight</figcaption>,\n",
       " <figcaption class=\"interface jsx-3120535758 jsx-957202555 tile-title balanced bold\">Castlevania X: Rondo of Blood</figcaption>,\n",
       " <figcaption class=\"interface jsx-3120535758 jsx-957202555 tile-title balanced bold\">Metroid Dread</figcaption>,\n",
       " <figcaption class=\"interface jsx-3120535758 jsx-957202555 tile-title balanced bold\">Blasphemous</figcaption>,\n",
       " <figcaption class=\"interface jsx-3120535758 jsx-957202555 tile-title balanced bold\">Bloodstained: Ritual of the Night</figcaption>,\n",
       " <figcaption class=\"interface jsx-3120535758 jsx-957202555 tile-title balanced bold\">Ori and the Blind Forest: Definitive Edition</figcaption>,\n",
       " <figcaption class=\"interface jsx-3120535758 jsx-957202555 tile-title balanced bold\">Salt and Sanctuary</figcaption>,\n",
       " <figcaption class=\"interface jsx-3120535758 jsx-957202555 tile-title balanced bold\">Overwhelm</figcaption>,\n",
       " <figcaption class=\"interface jsx-3120535758 jsx-957202555 tile-title balanced bold\">Carrion</figcaption>,\n",
       " <figcaption class=\"interface jsx-3120535758 jsx-957202555 tile-title balanced bold\">Super Metroid</figcaption>,\n",
       " <figcaption>7</figcaption>,\n",
       " <figcaption class=\"jsx-3547104548\"><div class=\"interface jsx-153568585 title bold\">Jarrett Green</div><div class=\"interface jsx-153568585\">Reviewed on <!-- -->PC</div></figcaption>,\n",
       " <figcaption>5</figcaption>,\n",
       " <figcaption>6</figcaption>,\n",
       " <figcaption>8</figcaption>]"
      ]
     },
     "execution_count": 16,
     "metadata": {},
     "output_type": "execute_result"
    }
   ],
   "source": [
    "soup.find_all(\"figcaption\")"
   ]
  },
  {
   "cell_type": "code",
   "execution_count": 18,
   "id": "42b00dce-a061-46d8-98ad-d27f1f1287a9",
   "metadata": {},
   "outputs": [],
   "source": [
    "articles = soup.find_all(\"p\")\n"
   ]
  },
  {
   "cell_type": "code",
   "execution_count": 19,
   "id": "0187bd5c-2036-4f90-aa9d-192440a91d37",
   "metadata": {},
   "outputs": [
    {
     "data": {
      "text/plain": [
       "\"The Last Faith feels like a good cover of a song you love, or a solid genre movie that isn’t going to push any boundaries, but will scratch an itch for digestible, reliable entertainment. If you like 2D platforming through big, non-linear maps that open up as you unlock new ways to maneuver around their obstacles, grinding through chaff that can be surprisingly resilient and clever on your way to big challenging boss fights, and a dark world fresh out of an apocalyptic event that needs your help to save whatever’s left of it, then this game is for you. It plays all the hits respectably, and even adds a few of its own flourishes, like an armory of clever weapons and flashy spells. But it does not over achieve, and is often a reminder of how much more special the games it’s clearly inspired by are in comparison.I'll be honest with you: by the end of my 15-hour journey through The Last Faith’s snowy cities, fetid crypts, and dilapidated manors, and seeing two of assumptively many possible endings of the tale, I had no idea what had just gone on. The story starts where most games inspired by the Souls games do, with some entity from outside of this world granting the worst people in it some measure of super power, and they use it in a way to deify themselves while condemning their surroundings and everyone else in them to a waking nightmare. I’m sure a studious and determined YouTuber is going to comb every item description, line of dialogue, and pixel of background art and connect them with enough red string to knit a sweater in order to make its vague and puzzling story make sense in the future, but once it became obvious to me that this game was committed to the frustrating obfuscation its plot, I lost all interest in following the breadcrumbs.That didn’t stop me from enjoying the satisfyingly macabre mood of it all. While it's fair to say that The Last Faith took some clear inspiration from its genre contemporary, Blasphemous, it trades the heavy Catholic body horror for a Victorian-era setting with the most traditional of blood-starved baddies. I think most of the environments are good, with very few standing out as particularly unique or memorable. An old manor filled with mirrors was the first time I stopped to really take in the scenery, and that was quite a few hours in by then. That said, almost all of the locations you’ll shoot, slice, and stab your way through are some sort of big house or deep cavern, which does get a bit old. Besides a brief jaunt through a striking section at the end, there’s no place in the world of The Last Faith that feels exciting.Most of the time the pacing is fluctuating wildly between brisk swashbuckling and a tense slog, largely because of difficulty that spikes at unexpected times. Some sections are breezy platforming and hack-and-slashing that feels simple and old-school, and in others every screen reveals an assortment of death perfectly placed to destroy you. But that challenge was always welcome because I rarely felt too far away from a checkpoint, be it the main altars that you can travel between or the temporary totems that pop up before particularly difficult moments, that jumping right back in felt treacherous. Kill me again – I’ll just come back for more! Monsters can be ferocious when you first meet them, especially in groups.  Mixed with environmental hazards like statues that breathe fire and puddles of mystery liquid that can shock you, and there's a lot of potential for chaos. In that aforementioned mirror manor, little creeps stand in just the right spot to crack you with their whips while you attempt to climb ledges to meet them. The more creative creatures are flesh golems that spit sacs of blood at you, while also letting its belly claw give you the world’s worst handshake. Most monsters are well-animated but mostly tame takes on ghouls, cultists, and man beasts, but at least once per area I met a standout freak or two.At the end of each section (and sometimes in between) are bosses that challenge your patience and reflexes, but maybe not your imagination. In the moment, these are solid skill checks and excellent punctuations to a long stretch of dungeon, but in hindsight from my side of the end credits, they’re all pretty standard pattern puzzles where you wait out the offense and sneak some of your own, and I'll likely never think about them in the same way I do some of the legendary Hollow Knight or Symphony of the Night bosses. The same goes for how they look, which is just fine, but giants, undead dragons, and other hunter guys kitted out similarly to you don’t quite move the needle and far as memorable bad guys. I get that not everyone can be an instant classic monster design like Gravelord Nito, but the cast of The Last Faith are playing it very safe.Speaking of which, but in a more positive sense, I never felt lost on where to go next. Since sections are gated off by abilities that you’ll gain as you progress, like double jumps or a grappling hook, it was pretty obvious which spots I should return to in order to move deeper into the realm’s sprawling depths. The map dutifully marks doors that are locked, and lets you drop a handful of pins, but that's the only help it provides when it comes to backtracking. You don’t do much of it during the main story, but if you’re not taking notes about where sidequest NPCs or points of interest are on your own, The Last Faith’s map system has no help to offer you. That even extends to it not telling you where you dropped your resources when you die (a genre staple that almost all of its contemporaries do, and is sorely missed here). Where The Last Faith stands out amongst other games like it is combat. Specifically, its fun selection of weapons that range from your standard sword to a mace that can extend into a whip, or sword that shoots gouts of fire. You can tap into these unique characteristics by spending some focus (mana), and trying out a new weapon to see what cool little gimmick it had was a must for me. The problem is that, like any soulslike, these weapons scale with specific stats, so if you put a heavy investment in one stat, no amount of special features is going to justify swinging a weapon with a different stat array, especially when things get tough towards the midgame. And I found no way to reorganize your stats at all, which is a huge bummer in a post-Elden Ring, post-Lies of P world where trying out different builds and finding new weapon options is encouraged.On the other hand, I found spells to be another cool but kind of useless option. No spells scale with strength (my character’s focus) and even with elemental properties and some admittedly useful effects, like a fire spell that can push enemies back on both sides of you or ice swords that float around you and attack nearby enemies, they still felt like I was making a sacrifice to force them to work instead of just swinging the giant sword I had to kill enemies in a fraction of the time. Though building a character to focus on magic would potentially make exploring these spells more enticing, I had no idea how to incorporate the various firearms you find into a game plan. Pistols, a shotgun, even a minigun can all be deployed against dark denizens, but unless it's to slowly whittle away enemies from an extra safe distance or to trigger a trap, I never felt like I needed to engage with any of them outside of seeing what they do.If you’ve already played genre leaders like Blasphemous 2 or Bloodstained, then I see no problem spending some time in the dark and largely derivative world of The Last Faith. I don’t think you’ll leave its samey dungeons or lackluster boss fights with a new favorite action game on your list, but navigating the maze of different areas and busting their big ugly masters is challenging and satisfying. The smattering of spells look fun and the collection weapons is genuinely cool with special abilities that are a blast to let loose, I just wish this game gave you more space to experiment without having to trade combat effectiveness. All that said, The Last Faith is not the pinnacle of what this sort of game has to offer by any stretch, and there are plenty of amazing ones I’d recommend that you play before crossing this one off of your list.\""
      ]
     },
     "execution_count": 19,
     "metadata": {},
     "output_type": "execute_result"
    }
   ],
   "source": [
    "''.join(list(map(lambda x: x.get_text(), articles)))"
   ]
  },
  {
   "cell_type": "code",
   "execution_count": 20,
   "id": "463b145e-f0bf-4058-8a33-e320cb0f4a6e",
   "metadata": {},
   "outputs": [],
   "source": [
    "from openai import OpenAI"
   ]
  },
  {
   "cell_type": "code",
   "execution_count": 21,
   "id": "3f4755f4-e809-456c-b375-7c4faf6ba699",
   "metadata": {},
   "outputs": [],
   "source": [
    "content = \"The Last Faith feels like a good cover of a song you love, or a solid genre movie that isn’t going to push any boundaries, but will scratch an itch for digestible, reliable entertainment. If you like 2D platforming through big, non-linear maps that open up as you unlock new ways to maneuver around their obstacles, grinding through chaff that can be surprisingly resilient and clever on your way to big challenging boss fights, and a dark world fresh out of an apocalyptic event that needs your help to save whatever’s left of it, then this game is for you. It plays all the hits respectably, and even adds a few of its own flourishes, like an armory of clever weapons and flashy spells. But it does not over achieve, and is often a reminder of how much more special the games it’s clearly inspired by are in comparison.I'll be honest with you: by the end of my 15-hour journey through The Last Faith’s snowy cities, fetid crypts, and dilapidated manors, and seeing two of assumptively many possible endings of the tale, I had no idea what had just gone on. The story starts where most games inspired by the Souls games do, with some entity from outside of this world granting the worst people in it some measure of super power, and they use it in a way to deify themselves while condemning their surroundings and everyone else in them to a waking nightmare. I’m sure a studious and determined YouTuber is going to comb every item description, line of dialogue, and pixel of background art and connect them with enough red string to knit a sweater in order to make its vague and puzzling story make sense in the future, but once it became obvious to me that this game was committed to the frustrating obfuscation its plot, I lost all interest in following the breadcrumbs.That didn’t stop me from enjoying the satisfyingly macabre mood of it all. While it's fair to say that The Last Faith took some clear inspiration from its genre contemporary, Blasphemous, it trades the heavy Catholic body horror for a Victorian-era setting with the most traditional of blood-starved baddies. I think most of the environments are good, with very few standing out as particularly unique or memorable. An old manor filled with mirrors was the first time I stopped to really take in the scenery, and that was quite a few hours in by then. That said, almost all of the locations you’ll shoot, slice, and stab your way through are some sort of big house or deep cavern, which does get a bit old. Besides a brief jaunt through a striking section at the end, there’s no place in the world of The Last Faith that feels exciting.Most of the time the pacing is fluctuating wildly between brisk swashbuckling and a tense slog, largely because of difficulty that spikes at unexpected times. Some sections are breezy platforming and hack-and-slashing that feels simple and old-school, and in others every screen reveals an assortment of death perfectly placed to destroy you. But that challenge was always welcome because I rarely felt too far away from a checkpoint, be it the main altars that you can travel between or the temporary totems that pop up before particularly difficult moments, that jumping right back in felt treacherous. Kill me again – I’ll just come back for more! Monsters can be ferocious when you first meet them, especially in groups.  Mixed with environmental hazards like statues that breathe fire and puddles of mystery liquid that can shock you, and there's a lot of potential for chaos. In that aforementioned mirror manor, little creeps stand in just the right spot to crack you with their whips while you attempt to climb ledges to meet them. The more creative creatures are flesh golems that spit sacs of blood at you, while also letting its belly claw give you the world’s worst handshake. Most monsters are well-animated but mostly tame takes on ghouls, cultists, and man beasts, but at least once per area I met a standout freak or two.At the end of each section (and sometimes in between) are bosses that challenge your patience and reflexes, but maybe not your imagination. In the moment, these are solid skill checks and excellent punctuations to a long stretch of dungeon, but in hindsight from my side of the end credits, they’re all pretty standard pattern puzzles where you wait out the offense and sneak some of your own, and I'll likely never think about them in the same way I do some of the legendary Hollow Knight or Symphony of the Night bosses. The same goes for how they look, which is just fine, but giants, undead dragons, and other hunter guys kitted out similarly to you don’t quite move the needle and far as memorable bad guys. I get that not everyone can be an instant classic monster design like Gravelord Nito, but the cast of The Last Faith are playing it very safe.Speaking of which, but in a more positive sense, I never felt lost on where to go next. Since sections are gated off by abilities that you’ll gain as you progress, like double jumps or a grappling hook, it was pretty obvious which spots I should return to in order to move deeper into the realm’s sprawling depths. The map dutifully marks doors that are locked, and lets you drop a handful of pins, but that's the only help it provides when it comes to backtracking. You don’t do much of it during the main story, but if you’re not taking notes about where sidequest NPCs or points of interest are on your own, The Last Faith’s map system has no help to offer you. That even extends to it not telling you where you dropped your resources when you die (a genre staple that almost all of its contemporaries do, and is sorely missed here). Where The Last Faith stands out amongst other games like it is combat. Specifically, its fun selection of weapons that range from your standard sword to a mace that can extend into a whip, or sword that shoots gouts of fire. You can tap into these unique characteristics by spending some focus (mana), and trying out a new weapon to see what cool little gimmick it had was a must for me. The problem is that, like any soulslike, these weapons scale with specific stats, so if you put a heavy investment in one stat, no amount of special features is going to justify swinging a weapon with a different stat array, especially when things get tough towards the midgame. And I found no way to reorganize your stats at all, which is a huge bummer in a post-Elden Ring, post-Lies of P world where trying out different builds and finding new weapon options is encouraged.On the other hand, I found spells to be another cool but kind of useless option. No spells scale with strength (my character’s focus) and even with elemental properties and some admittedly useful effects, like a fire spell that can push enemies back on both sides of you or ice swords that float around you and attack nearby enemies, they still felt like I was making a sacrifice to force them to work instead of just swinging the giant sword I had to kill enemies in a fraction of the time. Though building a character to focus on magic would potentially make exploring these spells more enticing, I had no idea how to incorporate the various firearms you find into a game plan. Pistols, a shotgun, even a minigun can all be deployed against dark denizens, but unless it's to slowly whittle away enemies from an extra safe distance or to trigger a trap, I never felt like I needed to engage with any of them outside of seeing what they do.If you’ve already played genre leaders like Blasphemous 2 or Bloodstained, then I see no problem spending some time in the dark and largely derivative world of The Last Faith. I don’t think you’ll leave its samey dungeons or lackluster boss fights with a new favorite action game on your list, but navigating the maze of different areas and busting their big ugly masters is challenging and satisfying. The smattering of spells look fun and the collection weapons is genuinely cool with special abilities that are a blast to let loose, I just wish this game gave you more space to experiment without having to trade combat effectiveness. All that said, The Last Faith is not the pinnacle of what this sort of game has to offer by any stretch, and there are plenty of amazing ones I’d recommend that you play before crossing this one off of your list.\""
   ]
  },
  {
   "cell_type": "code",
   "execution_count": 22,
   "id": "e1a7a72b-354d-4147-9896-18ead6332a5c",
   "metadata": {},
   "outputs": [],
   "source": [
    "client = OpenAI()"
   ]
  },
  {
   "cell_type": "code",
   "execution_count": 41,
   "id": "8a97f43d-725b-4ee9-9c27-42120da35d57",
   "metadata": {},
   "outputs": [
    {
     "name": "stdout",
     "output_type": "stream",
     "text": [
      "ChatCompletionMessage(content='{\\n  \"score\": 6\\n}', role='assistant', function_call=None, tool_calls=None)\n"
     ]
    }
   ],
   "source": [
    "completion = client.chat.completions.create(\n",
    "    model=\"gpt-3.5-turbo-1106\",\n",
    "    response_format={\"type\": \"json_object\"},\n",
    "    messages=[\n",
    "        {\"role\": \"system\", \"content\": \"You are a helpful assistant, designed to analyze video game reviews and return a score out of 10.\"},\n",
    "        {\"role\": \"system\", \"content\": \"You will output your response as a single digit number between one and ten. The response output will be a JSON with field 'score'\"},\n",
    "        {\"role\": \"system\", \"content\": \"The score outputed must be a single digit number between one and ten\"},\n",
    "        {\"role\": \"system\", \"content\": \"The score given will be based on the contents of the review. A higher score will be given if a review has positive sentiment, and lower if a review has more negative sentiment\"},\n",
    "        {\"role\": \"user\", \"content\": content}\n",
    "    ]\n",
    ")\n",
    "\n",
    "print(completion.choices[0].message)"
   ]
  },
  {
   "cell_type": "code",
   "execution_count": 12,
   "id": "3d602386-0f78-4feb-b6ea-deb9fc5f0d22",
   "metadata": {
    "scrolled": true
   },
   "outputs": [
    {
     "name": "stdout",
     "output_type": "stream",
     "text": [
      "ChatCompletionMessage(content='{\\n  \"pros\": [\\n    \"2D platforming through big, non-linear maps\",\\n    \"Clever weapons and flashy spells\",\\n    \"Satisfyingly macabre mood\",\\n    \"Well-animated monsters\",\\n    \"Combat effectiveness and selection of weapons\"\\n  ],\\n  \"cons\": [\\n    \"Incoherent and puzzling story\",\\n    \"Lack of unique and memorable environments\",\\n    \"Fluctuating pacing and difficulty spikes\",\\n    \"Standard pattern boss fights\",\\n    \"Limited flexibility in character builds\"\\n  ]\\n}', role='assistant', function_call=None, tool_calls=None)\n"
     ]
    }
   ],
   "source": [
    "completion = client.chat.completions.create(\n",
    "  model=\"gpt-3.5-turbo-1106\",\n",
    "  response_format= {\"type\": \"json_object\"},\n",
    "  messages=[\n",
    "    {\"role\": \"system\", \"content\": \"You are a helpful assistant, designed to analyze video game reviews and return pros and cons.\"},\n",
    "    {\"role\": \"system\", \"content\": \"You will output your response in JSON. The response output will be a JSON with fields 'pros' and 'cons'\"},\n",
    "    {\"role\": \"system\", \"content\": \"The JSON response output will have fields 'pros' and 'cons'. The values will be comma seperated pythonic lists of the pros and cons\"},\n",
    "    {\"role\": \"system\", \"content\": \"The list of pros and cons should be generated ONLY from the content passed by the user. Do not use additional resources\"},\n",
    "    {\"role\": \"user\", \"content\": content}\n",
    "  ]\n",
    ")\n",
    "\n",
    "print(completion.choices[0].message)"
   ]
  },
  {
   "cell_type": "code",
   "execution_count": 42,
   "id": "56b17805-5d08-4f72-a687-bcc67c8ec557",
   "metadata": {
    "scrolled": true
   },
   "outputs": [
    {
     "data": {
      "text/plain": [
       "'{\\n  \"score\": 6\\n}'"
      ]
     },
     "execution_count": 42,
     "metadata": {},
     "output_type": "execute_result"
    }
   ],
   "source": [
    "completion.choices[0].message.content"
   ]
  },
  {
   "cell_type": "code",
   "execution_count": 43,
   "id": "c8d25bd0-8044-4cd6-8f7b-0247e3591675",
   "metadata": {},
   "outputs": [],
   "source": [
    "import json"
   ]
  },
  {
   "cell_type": "code",
   "execution_count": 15,
   "id": "753bdc1e-b5d8-4235-8c3c-606dc7631e1b",
   "metadata": {},
   "outputs": [],
   "source": [
    "pros_cons_json = json.loads(completion.choices[0].message.content)"
   ]
  },
  {
   "cell_type": "code",
   "execution_count": 47,
   "id": "f9367da5-c42b-4407-a2cd-b154cd79f8b9",
   "metadata": {},
   "outputs": [
    {
     "data": {
      "text/plain": [
       "int"
      ]
     },
     "execution_count": 47,
     "metadata": {},
     "output_type": "execute_result"
    }
   ],
   "source": [
    "completion.usage\n",
    "score = json.loads(completion.choices[0].message.content)\n",
    "type(score['score'])"
   ]
  },
  {
   "cell_type": "code",
   "execution_count": 21,
   "id": "f30b3d98-23bb-491e-a463-1d7edc38178b",
   "metadata": {},
   "outputs": [],
   "source": [
    "# Write review to database. "
   ]
  },
  {
   "cell_type": "code",
   "execution_count": 17,
   "id": "8d5b9e03-1b65-4af4-8581-fc5a58dc934a",
   "metadata": {},
   "outputs": [
    {
     "data": {
      "text/plain": [
       "{'pros': ['2D platforming through big, non-linear maps',\n",
       "  'Clever weapons and flashy spells',\n",
       "  'Satisfyingly macabre mood',\n",
       "  'Well-animated monsters',\n",
       "  'Combat effectiveness and selection of weapons'],\n",
       " 'cons': ['Incoherent and puzzling story',\n",
       "  'Lack of unique and memorable environments',\n",
       "  'Fluctuating pacing and difficulty spikes',\n",
       "  'Standard pattern boss fights',\n",
       "  'Limited flexibility in character builds']}"
      ]
     },
     "execution_count": 17,
     "metadata": {},
     "output_type": "execute_result"
    }
   ],
   "source": [
    "pros_cons_json"
   ]
  },
  {
   "cell_type": "code",
   "execution_count": 22,
   "id": "c4c8ba93-0af9-4245-9dd1-ab561fc2ddde",
   "metadata": {},
   "outputs": [],
   "source": [
    "from helper_functions.write_functions import create_review"
   ]
  },
  {
   "cell_type": "code",
   "execution_count": 23,
   "id": "a9dbc80e-0756-49b5-8dd2-536c622741b0",
   "metadata": {},
   "outputs": [],
   "source": [
    "game_id = last_faith[0]\n",
    "publisher_id = publishers[0][0]\n",
    "review_url = publishers[0][2].format(game_name = last_faith_name)\n",
    "review = {\"game_id\": game_id, \"url\": review_url, \"publisher_id\": publisher_id}"
   ]
  },
  {
   "cell_type": "code",
   "execution_count": 24,
   "id": "30ca70bf-51ca-454d-9c1c-c3f006ce4a26",
   "metadata": {},
   "outputs": [],
   "source": [
    "create_review(connection, review)"
   ]
  },
  {
   "cell_type": "code",
   "execution_count": 1,
   "id": "a81e6811-6ed5-4662-9fde-f8ceff61cb62",
   "metadata": {},
   "outputs": [],
   "source": [
    "# Write pros and cons to database"
   ]
  },
  {
   "cell_type": "code",
   "execution_count": 39,
   "id": "f96ce0f1-e7d6-4317-8786-faea6b175137",
   "metadata": {},
   "outputs": [
    {
     "data": {
      "text/plain": [
       "{'pros': ['2D platforming through big, non-linear maps',\n",
       "  'Clever weapons and flashy spells',\n",
       "  'Satisfyingly macabre mood',\n",
       "  'Well-animated monsters',\n",
       "  'Clear progression gating through gained abilities',\n",
       "  'Fun selection of weapons with unique characteristics',\n",
       "  'Challenging and satisfying exploration and boss battles'],\n",
       " 'cons': ['Vague and puzzling story',\n",
       "  'Lacks unique and memorable environments',\n",
       "  'Fluctuating pacing and difficulty spikes',\n",
       "  'Standard pattern puzzles for boss battles',\n",
       "  'Limited guidance for backtracking and resource retrieval',\n",
       "  'Weapons scaling with specific stats restricts build experimentation',\n",
       "  'Spells feel kind of useless and difficult to incorporate effectively',\n",
       "  'Lackluster boss fights and largely derivative world']}"
      ]
     },
     "execution_count": 39,
     "metadata": {},
     "output_type": "execute_result"
    }
   ],
   "source": [
    "review_id = 2\n",
    "pros_cons_json"
   ]
  },
  {
   "cell_type": "code",
   "execution_count": 40,
   "id": "ec154be2-5ff7-4cd3-bcdc-0fa9c9181830",
   "metadata": {},
   "outputs": [],
   "source": [
    "pros = pros_cons_json['pros']\n",
    "cons = pros_cons_json['cons']"
   ]
  },
  {
   "cell_type": "code",
   "execution_count": 41,
   "id": "c7d38b4a-5dd0-4760-9ced-2909d0e67133",
   "metadata": {},
   "outputs": [],
   "source": [
    "# Create a list of tuples with review_id, text\n",
    "pros = list(map(lambda x: (review_id, x), pros))\n",
    "cons = list(map(lambda x: (review_id, x), cons))"
   ]
  },
  {
   "cell_type": "code",
   "execution_count": 42,
   "id": "8229eb6f-5d04-4cf0-a949-daf186b0f1e1",
   "metadata": {},
   "outputs": [],
   "source": [
    "from helper_functions.write_functions import write_review_pros_to_db, write_review_cons_to_db"
   ]
  },
  {
   "cell_type": "code",
   "execution_count": 44,
   "id": "a7b28062-4e6b-47df-a7d2-a6d6ee0dc5ef",
   "metadata": {},
   "outputs": [],
   "source": [
    "write_review_pros_to_db(connection, pros)"
   ]
  },
  {
   "cell_type": "code",
   "execution_count": 45,
   "id": "dda8dd18-c190-49ca-b0de-9c3afead8aa8",
   "metadata": {},
   "outputs": [],
   "source": [
    "write_review_cons_to_db(connection, cons)"
   ]
  },
  {
   "cell_type": "code",
   "execution_count": null,
   "id": "15584df3-4cbf-4e5e-bd58-770c37a56080",
   "metadata": {},
   "outputs": [],
   "source": []
  }
 ],
 "metadata": {
  "kernelspec": {
   "display_name": "Python 3 (ipykernel)",
   "language": "python",
   "name": "python3"
  },
  "language_info": {
   "codemirror_mode": {
    "name": "ipython",
    "version": 3
   },
   "file_extension": ".py",
   "mimetype": "text/x-python",
   "name": "python",
   "nbconvert_exporter": "python",
   "pygments_lexer": "ipython3",
   "version": "3.9.13"
  }
 },
 "nbformat": 4,
 "nbformat_minor": 5
}
