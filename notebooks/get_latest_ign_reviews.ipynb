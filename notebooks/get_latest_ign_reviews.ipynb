{
 "cells": [
  {
   "cell_type": "code",
   "execution_count": 1,
   "id": "4f28ce68-fe9b-45f3-955b-742e08da020d",
   "metadata": {},
   "outputs": [
    {
     "data": {
      "text/plain": [
       "'\\nScript to extract recent game review from IGN\\n'"
      ]
     },
     "execution_count": 1,
     "metadata": {},
     "output_type": "execute_result"
    }
   ],
   "source": [
    "\"\"\"\n",
    "Script to extract recent game review from IGN\n",
    "\"\"\""
   ]
  },
  {
   "cell_type": "code",
   "execution_count": 2,
   "id": "866106c3-93b7-4356-b823-6095512daa13",
   "metadata": {},
   "outputs": [],
   "source": [
    "import os\n",
    "os.getcwd()\n",
    "os.chdir(\"/Users/natepruitt/Projects/robocritic/\")"
   ]
  },
  {
   "cell_type": "code",
   "execution_count": 3,
   "id": "54791b0c-0229-4ae6-a390-58b2b1928f5e",
   "metadata": {},
   "outputs": [
    {
     "data": {
      "text/plain": [
       "True"
      ]
     },
     "execution_count": 3,
     "metadata": {},
     "output_type": "execute_result"
    }
   ],
   "source": [
    "from dotenv import load_dotenv\n",
    "load_dotenv()"
   ]
  },
  {
   "cell_type": "code",
   "execution_count": 4,
   "id": "4393d633-2e6a-41f4-8116-ef7cfde7ac7a",
   "metadata": {},
   "outputs": [
    {
     "name": "stdout",
     "output_type": "stream",
     "text": [
      "Connection to MySQL DB successful\n"
     ]
    }
   ],
   "source": [
    "# Imports\n",
    "import requests\n",
    "from bs4 import BeautifulSoup\n",
    "from helper_functions.db_connection import connection\n",
    "from helper_functions.query_functions import get_publisher_by_id, get_game_by_title\n",
    "from helper_functions.igdb_service import IGDBService"
   ]
  },
  {
   "cell_type": "code",
   "execution_count": 5,
   "id": "a85ac191-166a-4d7e-b009-9bbd3e9d06fb",
   "metadata": {},
   "outputs": [],
   "source": [
    "# Pull latest games from IGN\n",
    "ign_latest_review_url = \"https://www.ign.com/reviews/games\"\n",
    "header_mapping = {\"User-Agent\": \"Mac Firefox\"}\n",
    "publisher = get_publisher_by_id(connection, 1)"
   ]
  },
  {
   "cell_type": "code",
   "execution_count": 6,
   "id": "ba2d6126-3f3e-4154-903a-0b61dfd51987",
   "metadata": {},
   "outputs": [],
   "source": [
    "ign_latest_reviews_html = requests.get(ign_latest_review_url, headers=header_mapping)"
   ]
  },
  {
   "cell_type": "code",
   "execution_count": 7,
   "id": "19228b0d-83b3-40d5-8909-0c55f94dafff",
   "metadata": {},
   "outputs": [],
   "source": [
    "ign_latest_reviews_soup = BeautifulSoup(ign_latest_reviews_html.content, 'html.parser')"
   ]
  },
  {
   "cell_type": "code",
   "execution_count": 8,
   "id": "fbf71e6a-3f05-4a22-9f61-8bae29b5b12a",
   "metadata": {},
   "outputs": [],
   "source": [
    "latest_reviews_a_tag_list = ign_latest_reviews_soup.find(class_=\"main-content\").find_all('a')"
   ]
  },
  {
   "cell_type": "code",
   "execution_count": 9,
   "id": "a2606a48-f16d-449b-a17d-5b5c98e0c3d2",
   "metadata": {},
   "outputs": [
    {
     "data": {
      "text/plain": [
       "'/articles/avatar-frontiers-of-pandora-review'"
      ]
     },
     "execution_count": 9,
     "metadata": {},
     "output_type": "execute_result"
    }
   ],
   "source": [
    "# From each review, need to extract review url and game name. \n",
    "# Or, only get the game name. I already have the URL from the database. Add review to it. I know the game name start at 1 and repeat to 29\n",
    "# 'get' soup function returns attribute on a soup object. \n",
    "latest_reviews_a_tag_list[0].get(\"href\")\n"
   ]
  },
  {
   "cell_type": "code",
   "execution_count": 10,
   "id": "1485ecef-b4d0-4138-ac0c-1c278ba19230",
   "metadata": {},
   "outputs": [
    {
     "data": {
      "text/plain": [
       "30"
      ]
     },
     "execution_count": 10,
     "metadata": {},
     "output_type": "execute_result"
    }
   ],
   "source": [
    "len(latest_reviews_a_tag_list)"
   ]
  },
  {
   "cell_type": "code",
   "execution_count": 11,
   "id": "e5737c27-8d22-46d4-88b9-2ae08c0cd282",
   "metadata": {},
   "outputs": [
    {
     "data": {
      "text/plain": [
       "False"
      ]
     },
     "execution_count": 11,
     "metadata": {},
     "output_type": "execute_result"
    }
   ],
   "source": [
    "bool(latest_reviews_a_tag_list[1].get('aria-label'))"
   ]
  },
  {
   "cell_type": "code",
   "execution_count": 12,
   "id": "561e2b56-474f-4be8-b699-3a4a1faacdf6",
   "metadata": {},
   "outputs": [],
   "source": [
    "filter_latest_reviews_a_tag = filter(lambda x: bool(x.get('aria-label')), latest_reviews_a_tag_list)"
   ]
  },
  {
   "cell_type": "code",
   "execution_count": 13,
   "id": "e3cfbb43-56b6-40ba-b520-8f7612ff487a",
   "metadata": {},
   "outputs": [],
   "source": [
    "filtered_a_tags = list(filter_latest_reviews_a_tag)"
   ]
  },
  {
   "cell_type": "code",
   "execution_count": 14,
   "id": "bad8aa68-7fc5-4b2d-a4ff-da9e5b42b7fe",
   "metadata": {},
   "outputs": [
    {
     "data": {
      "text/plain": [
       "'Avatar: Frontiers of Pandora'"
      ]
     },
     "execution_count": 14,
     "metadata": {},
     "output_type": "execute_result"
    }
   ],
   "source": [
    "filtered_a_tags[0].get('aria-label').rstrip('Review').rstrip()"
   ]
  },
  {
   "cell_type": "code",
   "execution_count": 15,
   "id": "4b47f7a0-5468-4a5a-9e83-80a7cc58732d",
   "metadata": {},
   "outputs": [
    {
     "data": {
      "text/plain": [
       "'/articles/avatar-frontiers-of-pandora-review'"
      ]
     },
     "execution_count": 15,
     "metadata": {},
     "output_type": "execute_result"
    }
   ],
   "source": [
    "filtered_a_tags[0].get('href')"
   ]
  },
  {
   "cell_type": "code",
   "execution_count": 16,
   "id": "62c43f69-5091-4bde-b3f8-6fdbfc78f530",
   "metadata": {},
   "outputs": [],
   "source": [
    "ign_base_url = \"https://www.ign.com\""
   ]
  },
  {
   "cell_type": "code",
   "execution_count": 17,
   "id": "f324c59d-de14-40be-9af4-c431927b202f",
   "metadata": {},
   "outputs": [],
   "source": [
    "avatar_article_link = ign_base_url + filtered_a_tags[0].get('href')"
   ]
  },
  {
   "cell_type": "code",
   "execution_count": 18,
   "id": "b18d52a9-63c2-4e49-8bb9-149074ab504a",
   "metadata": {},
   "outputs": [
    {
     "data": {
      "text/plain": [
       "'https://www.ign.com/articles/avatar-frontiers-of-pandora-review'"
      ]
     },
     "execution_count": 18,
     "metadata": {},
     "output_type": "execute_result"
    }
   ],
   "source": [
    "avatar_article_link"
   ]
  },
  {
   "cell_type": "code",
   "execution_count": 19,
   "id": "70998fdb-681f-4b5a-a253-a7340d79b035",
   "metadata": {},
   "outputs": [],
   "source": [
    "mapped_latest_reviews = list(map(lambda x: {\"title\": x.get(\"aria-label\").rstrip(\"Review\").rstrip(), \"href\": x.get(\"href\")}, filtered_a_tags))\n"
   ]
  },
  {
   "cell_type": "code",
   "execution_count": 20,
   "id": "19edd3d5-9ac2-4fb6-921e-4b22c8644e14",
   "metadata": {},
   "outputs": [
    {
     "data": {
      "text/plain": [
       "[{'title': 'Avatar: Frontiers of Pandora',\n",
       "  'href': '/articles/avatar-frontiers-of-pandora-review'},\n",
       " {'title': 'Arizona Sunshine 2',\n",
       "  'href': '/articles/arizona-sunshine-2-review'},\n",
       " {'title': 'Lethal Company Early Access',\n",
       "  'href': '/articles/lethal-company-early-access-review'},\n",
       " {'title': 'The Walking Dead: Destinies',\n",
       "  'href': '/articles/the-walking-dead-destinies-review'},\n",
       " {'title': 'SteamWorld Build', 'href': '/articles/steamworld-build-review'},\n",
       " {'title': 'Bluey: The Videogame',\n",
       "  'href': '/articles/bluey-the-videogame-review'},\n",
       " {'title': 'Flashback 2', 'href': '/articles/flashback-2-review'},\n",
       " {'title': 'Naruto x Boruto Ultimate Ninja Storm Connections',\n",
       "  'href': '/articles/naruto-x-boruto-ultimate-ninja-storm-connections-review'},\n",
       " {'title': 'Modern Warfare 3: Zombies Final',\n",
       "  'href': '/articles/call-of-duty-modern-warfare-3-zombies-review'},\n",
       " {'title': \"Assassin's Creed Nexus VR\",\n",
       "  'href': '/articles/assassins-creed-nexus-vr-review'}]"
      ]
     },
     "execution_count": 20,
     "metadata": {},
     "output_type": "execute_result"
    }
   ],
   "source": [
    "mapped_latest_reviews"
   ]
  },
  {
   "cell_type": "code",
   "execution_count": 21,
   "id": "e7e8e919-957b-4c02-b10e-adf5839cc605",
   "metadata": {},
   "outputs": [
    {
     "data": {
      "text/plain": [
       "True"
      ]
     },
     "execution_count": 21,
     "metadata": {},
     "output_type": "execute_result"
    }
   ],
   "source": [
    "bool(get_game_by_title(connection, 'The Last Faith'))"
   ]
  },
  {
   "cell_type": "code",
   "execution_count": 22,
   "id": "7055b592-1150-4ddc-8078-b2214284b5f7",
   "metadata": {},
   "outputs": [
    {
     "data": {
      "text/plain": [
       "(1, 'The Last Faith', datetime.date(2023, 11, 15), None)"
      ]
     },
     "execution_count": 22,
     "metadata": {},
     "output_type": "execute_result"
    }
   ],
   "source": [
    "get_game_by_title(connection, 'The Last Faith')"
   ]
  },
  {
   "cell_type": "code",
   "execution_count": 23,
   "id": "2b1f5c64-e498-4284-86ea-b0ee69a5ac49",
   "metadata": {},
   "outputs": [],
   "source": [
    "# For each game, write the name and date"
   ]
  },
  {
   "cell_type": "code",
   "execution_count": 24,
   "id": "288406c9-e2d1-4fd6-86ca-27cc525b53e9",
   "metadata": {},
   "outputs": [],
   "source": [
    "from helper_functions.write_functions import create_game\n",
    "from datetime import datetime"
   ]
  },
  {
   "cell_type": "code",
   "execution_count": 25,
   "id": "2f91d90a-84b8-4eb7-aca9-ddb78d016786",
   "metadata": {},
   "outputs": [
    {
     "data": {
      "text/plain": [
       "datetime.date(2023, 12, 7)"
      ]
     },
     "execution_count": 25,
     "metadata": {},
     "output_type": "execute_result"
    }
   ],
   "source": [
    "avatar_release_date = datetime.utcfromtimestamp(1701907200)\n",
    "avatar_release_date.date()"
   ]
  },
  {
   "cell_type": "code",
   "execution_count": 26,
   "id": "d85fc9b6-ea4d-4f71-848b-48e8a4b2e96d",
   "metadata": {},
   "outputs": [
    {
     "name": "stdout",
     "output_type": "stream",
     "text": [
      "The error '1062 (23000): Duplicate entry 'Avatar: Frontiers of Pandora' for key 'game.Unique_Game'' occurred\n"
     ]
    }
   ],
   "source": [
    "create_game(connection, {\"title\": \"Avatar: Frontiers of Pandora\", \"release_date\": avatar_release_date.date()})"
   ]
  },
  {
   "cell_type": "code",
   "execution_count": 35,
   "id": "080af86a-5ca3-412a-803b-cfc58016944f",
   "metadata": {},
   "outputs": [
    {
     "data": {
      "text/plain": [
       "(2,\n",
       " 'Avatar: Frontiers of Pandora',\n",
       " datetime.date(2023, 12, 6),\n",
       " datetime.datetime(2023, 12, 7, 12, 6, 10))"
      ]
     },
     "execution_count": 35,
     "metadata": {},
     "output_type": "execute_result"
    }
   ],
   "source": [
    "get_game_by_title(connection, 'Avatar: Frontiers of Pandora')"
   ]
  },
  {
   "cell_type": "code",
   "execution_count": 5,
   "id": "594d0f55-f274-46dd-a47d-4787c42c05e6",
   "metadata": {},
   "outputs": [],
   "source": [
    "# retrieve the game release date from igdb API\n",
    "igdb_service = IGDBService(connection)"
   ]
  },
  {
   "cell_type": "code",
   "execution_count": 6,
   "id": "770db86d-d8f6-45f7-a4fa-d6f3e648e5d1",
   "metadata": {},
   "outputs": [
    {
     "data": {
      "text/plain": [
       "482972"
      ]
     },
     "execution_count": 6,
     "metadata": {},
     "output_type": "execute_result"
    }
   ],
   "source": [
    "igdb_service.get_game_release_date_by_title('Avatar: Fronteirs of Pandora')"
   ]
  },
  {
   "cell_type": "code",
   "execution_count": 40,
   "id": "d9b005fa-a745-4b8f-a358-5551466167ea",
   "metadata": {},
   "outputs": [],
   "source": []
  },
  {
   "cell_type": "code",
   "execution_count": 41,
   "id": "652c3da9-30da-4f3b-8427-c2512d4a9ee3",
   "metadata": {},
   "outputs": [],
   "source": [
    "igdb_service = IGDBService(connection)"
   ]
  },
  {
   "cell_type": "code",
   "execution_count": 42,
   "id": "57d646fc-ac88-48ed-a65b-c5beded34d50",
   "metadata": {},
   "outputs": [
    {
     "name": "stdout",
     "output_type": "stream",
     "text": [
      "[{'id': 152202, 'genres': [31], 'name': 'Avatar: Frontiers of Pandora', 'platforms': [6, 167, 169], 'release_dates': [482972, 482973, 482974]}]\n"
     ]
    }
   ],
   "source": [
    "print(igdb_service.get_game_release_date_by_title(' '))"
   ]
  },
  {
   "cell_type": "code",
   "execution_count": null,
   "id": "f91740e1-7d5c-461e-9c3f-658214706baa",
   "metadata": {},
   "outputs": [],
   "source": []
  }
 ],
 "metadata": {
  "kernelspec": {
   "display_name": "Python 3 (ipykernel)",
   "language": "python",
   "name": "python3"
  },
  "language_info": {
   "codemirror_mode": {
    "name": "ipython",
    "version": 3
   },
   "file_extension": ".py",
   "mimetype": "text/x-python",
   "name": "python",
   "nbconvert_exporter": "python",
   "pygments_lexer": "ipython3",
   "version": "3.9.13"
  }
 },
 "nbformat": 4,
 "nbformat_minor": 5
}
