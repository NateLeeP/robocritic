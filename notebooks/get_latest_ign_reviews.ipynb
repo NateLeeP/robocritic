{
 "cells": [
  {
   "cell_type": "code",
   "execution_count": 1,
   "id": "4f28ce68-fe9b-45f3-955b-742e08da020d",
   "metadata": {},
   "outputs": [
    {
     "data": {
      "text/plain": [
       "'\\nScript to extract recent game review from IGN\\n'"
      ]
     },
     "execution_count": 1,
     "metadata": {},
     "output_type": "execute_result"
    }
   ],
   "source": [
    "\"\"\"\n",
    "Script to extract recent game review from IGN\n",
    "\"\"\""
   ]
  },
  {
   "cell_type": "code",
   "execution_count": 2,
   "id": "866106c3-93b7-4356-b823-6095512daa13",
   "metadata": {},
   "outputs": [],
   "source": [
    "import os\n",
    "os.getcwd()\n",
    "os.chdir(\"/Users/natepruitt/Projects/robocritic/\")"
   ]
  },
  {
   "cell_type": "code",
   "execution_count": 3,
   "id": "54791b0c-0229-4ae6-a390-58b2b1928f5e",
   "metadata": {},
   "outputs": [
    {
     "data": {
      "text/plain": [
       "True"
      ]
     },
     "execution_count": 3,
     "metadata": {},
     "output_type": "execute_result"
    }
   ],
   "source": [
    "from dotenv import load_dotenv\n",
    "load_dotenv()"
   ]
  },
  {
   "cell_type": "code",
   "execution_count": 4,
   "id": "4393d633-2e6a-41f4-8116-ef7cfde7ac7a",
   "metadata": {},
   "outputs": [
    {
     "name": "stdout",
     "output_type": "stream",
     "text": [
      "Connection to MySQL DB successful\n"
     ]
    }
   ],
   "source": [
    "# Imports\n",
    "import requests\n",
    "from settings import settings\n",
    "from bs4 import BeautifulSoup\n",
    "from helper_functions.db_connection import connection\n",
    "from helper_functions.query_functions import get_publisher_by_id, get_game_by_title, get_review_by_game_id_and_publisher_id\n",
    "from helper_functions.igdb_service import IGDBService\n",
    "from helper_functions.scraping_utils import get_latest_reviews_from_ign, get_game_review_content_from_ign\n",
    "from helper_functions.write_functions import create_game, create_review, write_review_pros_to_db, write_review_cons_to_db\n",
    "from helper_functions.openai_service import OpenAIService\n",
    "from datetime import datetime"
   ]
  },
  {
   "cell_type": "code",
   "execution_count": 5,
   "id": "ba2806e3-2832-4a4e-a38d-fa09fd46eaa8",
   "metadata": {},
   "outputs": [],
   "source": [
    "# retrieve the game release date from igdb API\n",
    "igdb_service = IGDBService(connection)\n",
    "\n",
    "# Instantiate OpenAI service\n",
    "openai_service = OpenAIService()"
   ]
  },
  {
   "cell_type": "code",
   "execution_count": 6,
   "id": "a85ac191-166a-4d7e-b009-9bbd3e9d06fb",
   "metadata": {},
   "outputs": [],
   "source": [
    "# Pull latest games from IGN\n",
    "publisher = get_publisher_by_id(connection, settings.ign_publisher_id)\n",
    "latest_reviews = get_latest_reviews_from_ign()"
   ]
  },
  {
   "cell_type": "code",
   "execution_count": 9,
   "id": "a635e565-a6b1-4fc0-ac6f-d5be8b0899d9",
   "metadata": {},
   "outputs": [
    {
     "data": {
      "text/plain": [
       "[{'title': 'Fortnite Rocket Racing',\n",
       "  'href': '/articles/fortnite-rocket-racing-review'}]"
      ]
     },
     "execution_count": 9,
     "metadata": {},
     "output_type": "execute_result"
    }
   ],
   "source": [
    "latest_reviews[1:2]"
   ]
  },
  {
   "cell_type": "code",
   "execution_count": 11,
   "id": "eea27aa0-ce8b-4689-8c2c-8814019a2782",
   "metadata": {},
   "outputs": [
    {
     "data": {
      "text/plain": [
       "'https://www.ign.com/articles/fortnite-rocket-racing-review'"
      ]
     },
     "execution_count": 11,
     "metadata": {},
     "output_type": "execute_result"
    }
   ],
   "source": [
    "ign_url = \"https://www.ign.com\"\n",
    "fortnite = ign_url + \"/articles/fortnite-rocket-racing-review\"\n",
    "fortnite"
   ]
  },
  {
   "cell_type": "code",
   "execution_count": 14,
   "id": "288406c9-e2d1-4fd6-86ca-27cc525b53e9",
   "metadata": {},
   "outputs": [
    {
     "name": "stdout",
     "output_type": "stream",
     "text": [
      "Review in db: (5, 'https://www.ign.com/articles/fortnite-rocket-racing-review', Decimal('5.0'), None, 31, 1, None, datetime.datetime(2024, 1, 4, 13, 13, 7))\n"
     ]
    }
   ],
   "source": [
    "# For each review, create a game entry if does not exist\n",
    "for review in latest_reviews[1:2]:\n",
    "    game_title = review['title']\n",
    "    game = get_game_by_title(connection, game_title)\n",
    "    if not game:\n",
    "        # If game not exists, write game then write review\n",
    "        try:\n",
    "            game_release_date = igdb_service.get_first_release_date_id_by_title(game_title)\n",
    "        except ValueError as e:\n",
    "            print(e)\n",
    "            game_release_date = datetime.today().date()\n",
    "        game_id = create_game(connection, {\"title\": game_title, \"release_date\": game_release_date})\n",
    "    # Check if review exists:\n",
    "    game_id = game[0] if game else game_id\n",
    "    db_review = get_review_by_game_id_and_publisher_id(connection, game_id=game_id, publisher_id=settings.ign_publisher_id)\n",
    "    if not db_review:\n",
    "        # write review to database\n",
    "        print(f\"Writing review to db for {review['title']}\")\n",
    "        # Scrape review from site. \n",
    "        review_url = ign_url + review['href']\n",
    "        print(f\"Scrape review from {review_url}\")\n",
    "        game_review_content = get_game_review_content_from_ign(review_url)\n",
    "\n",
    "        # Get roboscore from open ai\n",
    "        score_json = openai_service.assign_score_to_content(game_review_content)\n",
    "        score = score_json[\"score\"]\n",
    "        \n",
    "        # Create review in DB\n",
    "        db_review = {\"game_id\": game_id, \"url\": review_url, \"publisher_id\": settings.ign_publisher_id, \"robo_score\": score}\n",
    "        print(f\"Create review in db out of review object {db_review}\")\n",
    "        review_id = create_review(connection, db_review)\n",
    "\n",
    "        # Send content to OpenAI API. \n",
    "        pros_cons_json = openai_service.extract_review_pros_and_cons(game_review_content)\n",
    "\n",
    "        # Parse pros cons list\n",
    "        # Create a list of tuples with review_id, text\n",
    "        pros = list(map(lambda x: (review_id, x), pros_cons_json[\"pros\"]))\n",
    "        cons = list(map(lambda x: (review_id, x), pros_cons_json[\"cons\"]))\n",
    "\n",
    "        write_review_pros_to_db(connection, pros)\n",
    "        write_review_cons_to_db(connection, cons)\n",
    "    else:\n",
    "        print(f\"Review in db: {db_review}\")"
   ]
  },
  {
   "cell_type": "code",
   "execution_count": 15,
   "id": "594d0f55-f274-46dd-a47d-4787c42c05e6",
   "metadata": {},
   "outputs": [
    {
     "name": "stdout",
     "output_type": "stream",
     "text": [
      "(5, 'The Finals', datetime.date(2023, 12, 8), datetime.datetime(2023, 12, 19, 12, 46, 51))\n"
     ]
    }
   ],
   "source": [
    "game = get_game_by_title(connection, 'The Finals')\n",
    "print(game)"
   ]
  },
  {
   "cell_type": "code",
   "execution_count": 8,
   "id": "770db86d-d8f6-45f7-a4fa-d6f3e648e5d1",
   "metadata": {},
   "outputs": [],
   "source": [
    "the_finals_release_date = igdb_service.get_game_release_date_by_title('The Finals')"
   ]
  },
  {
   "cell_type": "code",
   "execution_count": 9,
   "id": "d9b005fa-a745-4b8f-a358-5551466167ea",
   "metadata": {},
   "outputs": [
    {
     "data": {
      "text/plain": [
       "5"
      ]
     },
     "execution_count": 9,
     "metadata": {},
     "output_type": "execute_result"
    }
   ],
   "source": [
    "create_game(connection, {\"title\": \"The Finals\", \"release_date\": the_finals_release_date})"
   ]
  },
  {
   "cell_type": "code",
   "execution_count": 9,
   "id": "f91740e1-7d5c-461e-9c3f-658214706baa",
   "metadata": {},
   "outputs": [
    {
     "data": {
      "text/plain": [
       "[{'title': 'The Finals', 'href': '/articles/the-finals-review'},\n",
       " {'title': 'Warhammer 40,000: Rogue Trader',\n",
       "  'href': '/articles/warhammer-40000-rogue-trader-review'},\n",
       " {'title': 'Resident Evil 4 Remake VR',\n",
       "  'href': '/articles/resident-evil-4-remake-vr-review'},\n",
       " {'title': 'Granblue Fantasy Versus Rising',\n",
       "  'href': '/articles/granblue-fantasy-versus-rising-review'},\n",
       " {'title': 'Cookie Cutter', 'href': '/articles/cookie-cutter-review'},\n",
       " {'title': 'House Flipper 2', 'href': '/articles/house-flipper-2-review'},\n",
       " {'title': 'Fortnite Festival', 'href': '/articles/fortnite-festival-review'},\n",
       " {'title': 'Asgard’s Wrath 2', 'href': '/articles/asgards-wrath-2-review'},\n",
       " {'title': 'Lego Fortnite', 'href': '/articles/lego-fortnite-review'},\n",
       " {'title': 'The Day Before', 'href': '/articles/the-day-before-review'}]"
      ]
     },
     "execution_count": 9,
     "metadata": {},
     "output_type": "execute_result"
    }
   ],
   "source": [
    "get_latest_reviews_from_ign()"
   ]
  },
  {
   "cell_type": "code",
   "execution_count": 6,
   "id": "1c4b0382-94b4-441a-8de3-c2f6ad18564a",
   "metadata": {},
   "outputs": [
    {
     "name": "stdout",
     "output_type": "stream",
     "text": [
      "404 Client Error: Not Found for url: https://api.igdb.com/v4/game\n",
      "Request failed with data: fields name, genres, platforms, release_dates; where name = \"Resident Evil 4 Remake VR\";\n",
      "400 Client Error: Bad Request for url: https://api.igdb.com/v4/release_dates\n",
      "Request failed with data: fields date; where id = None;\n"
     ]
    }
   ],
   "source": [
    "igdb_service.get_game_release_date_by_title(\"Resident Evil 4 Remake VR\")"
   ]
  },
  {
   "cell_type": "code",
   "execution_count": 7,
   "id": "fcb2dce1-f395-4a9f-9dfc-d2288635ac5d",
   "metadata": {},
   "outputs": [
    {
     "ename": "IndexError",
     "evalue": "list index out of range",
     "output_type": "error",
     "traceback": [
      "\u001b[0;31m---------------------------------------------------------------------------\u001b[0m",
      "\u001b[0;31mIndexError\u001b[0m                                Traceback (most recent call last)",
      "Cell \u001b[0;32mIn[7], line 2\u001b[0m\n\u001b[1;32m      1\u001b[0m game \u001b[38;5;241m=\u001b[39m []\n\u001b[0;32m----> 2\u001b[0m \u001b[43mgame\u001b[49m\u001b[43m[\u001b[49m\u001b[38;5;241;43m0\u001b[39;49m\u001b[43m]\u001b[49m\n",
      "\u001b[0;31mIndexError\u001b[0m: list index out of range"
     ]
    }
   ],
   "source": [
    "game = []\n",
    "game[0]"
   ]
  },
  {
   "cell_type": "code",
   "execution_count": 17,
   "id": "edf08a02-4d86-496f-ad61-b04805b205a4",
   "metadata": {},
   "outputs": [
    {
     "data": {
      "text/plain": [
       "404"
      ]
     },
     "execution_count": 17,
     "metadata": {},
     "output_type": "execute_result"
    }
   ],
   "source": [
    "r = requests.get('http://www.google.com/nothere')\n",
    "r.status_code"
   ]
  },
  {
   "cell_type": "code",
   "execution_count": null,
   "id": "3cf6e219-007c-4a86-adfa-5562bd5fd358",
   "metadata": {},
   "outputs": [],
   "source": []
  }
 ],
 "metadata": {
  "kernelspec": {
   "display_name": "Python 3 (ipykernel)",
   "language": "python",
   "name": "python3"
  },
  "language_info": {
   "codemirror_mode": {
    "name": "ipython",
    "version": 3
   },
   "file_extension": ".py",
   "mimetype": "text/x-python",
   "name": "python",
   "nbconvert_exporter": "python",
   "pygments_lexer": "ipython3",
   "version": "3.9.13"
  }
 },
 "nbformat": 4,
 "nbformat_minor": 5
}
