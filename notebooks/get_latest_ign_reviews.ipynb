{
 "cells": [
  {
   "cell_type": "code",
   "execution_count": 1,
   "id": "4f28ce68-fe9b-45f3-955b-742e08da020d",
   "metadata": {},
   "outputs": [
    {
     "data": {
      "text/plain": [
       "'\\nScript to extract recent game review from IGN\\n'"
      ]
     },
     "execution_count": 1,
     "metadata": {},
     "output_type": "execute_result"
    }
   ],
   "source": [
    "\"\"\"\n",
    "Script to extract recent game review from IGN\n",
    "\"\"\""
   ]
  },
  {
   "cell_type": "code",
   "execution_count": 2,
   "id": "866106c3-93b7-4356-b823-6095512daa13",
   "metadata": {},
   "outputs": [],
   "source": [
    "import os\n",
    "os.getcwd()\n",
    "os.chdir(\"/Users/natepruitt/Projects/robocritic/\")"
   ]
  },
  {
   "cell_type": "code",
   "execution_count": 3,
   "id": "54791b0c-0229-4ae6-a390-58b2b1928f5e",
   "metadata": {},
   "outputs": [
    {
     "data": {
      "text/plain": [
       "True"
      ]
     },
     "execution_count": 3,
     "metadata": {},
     "output_type": "execute_result"
    }
   ],
   "source": [
    "from dotenv import load_dotenv\n",
    "load_dotenv()"
   ]
  },
  {
   "cell_type": "code",
   "execution_count": 4,
   "id": "4393d633-2e6a-41f4-8116-ef7cfde7ac7a",
   "metadata": {},
   "outputs": [
    {
     "name": "stdout",
     "output_type": "stream",
     "text": [
      "The error '2003 (HY000): Can't connect to MySQL server on 'localhost:3306' (61)' occurred\n"
     ]
    }
   ],
   "source": [
    "# Imports\n",
    "import requests\n",
    "from settings import settings\n",
    "from bs4 import BeautifulSoup\n",
    "from helper_functions.db_connection import connection\n",
    "from helper_functions.query_functions import get_publisher_by_id, get_game_by_title, get_review_by_game_id_and_publisher_id\n",
    "from helper_functions.dynamodb_services import GameReleaseDate, Reviews\n",
    "from helper_functions.igdb_service import IGDBService\n",
    "from helper_functions.scraping_utils import get_latest_reviews_from_ign, get_game_review_soup_from_ign, get_game_release_date_from_metacritic\n",
    "from helper_functions.write_functions import create_game, create_review, write_review_pros_to_db, write_review_cons_to_db\n",
    "from helper_functions.openai_service import OpenAIService\n",
    "from datetime import datetime\n",
    "import logging\n",
    "\n",
    "logger = logging.getLogger()\n",
    "logger.setLevel(logging.INFO)"
   ]
  },
  {
   "cell_type": "code",
   "execution_count": 5,
   "id": "ba2806e3-2832-4a4e-a38d-fa09fd46eaa8",
   "metadata": {},
   "outputs": [
    {
     "ename": "TypeError",
     "evalue": "__init__() takes 1 positional argument but 2 were given",
     "output_type": "error",
     "traceback": [
      "\u001b[0;31m---------------------------------------------------------------------------\u001b[0m",
      "\u001b[0;31mTypeError\u001b[0m                                 Traceback (most recent call last)",
      "Cell \u001b[0;32mIn[5], line 2\u001b[0m\n\u001b[1;32m      1\u001b[0m \u001b[38;5;66;03m# retrieve the game release date from igdb API\u001b[39;00m\n\u001b[0;32m----> 2\u001b[0m igdb_service \u001b[38;5;241m=\u001b[39m \u001b[43mIGDBService\u001b[49m\u001b[43m(\u001b[49m\u001b[43mconnection\u001b[49m\u001b[43m)\u001b[49m\n\u001b[1;32m      4\u001b[0m \u001b[38;5;66;03m# Instantiate OpenAI service\u001b[39;00m\n\u001b[1;32m      5\u001b[0m openai_service \u001b[38;5;241m=\u001b[39m OpenAIService()\n",
      "\u001b[0;31mTypeError\u001b[0m: __init__() takes 1 positional argument but 2 were given"
     ]
    }
   ],
   "source": [
    "# retrieve the game release date from igdb API\n",
    "igdb_service = IGDBService(connection)\n",
    "\n",
    "# Instantiate OpenAI service\n",
    "openai_service = OpenAIService()"
   ]
  },
  {
   "cell_type": "code",
   "execution_count": 5,
   "id": "dd528db4-a318-4089-9114-10c663af46c4",
   "metadata": {},
   "outputs": [
    {
     "data": {
      "text/plain": [
       "datetime.date(2024, 2, 16)"
      ]
     },
     "execution_count": 5,
     "metadata": {},
     "output_type": "execute_result"
    }
   ],
   "source": [
    "IGDBService().get_first_release_date_by_title(\"Mario vs. Donkey Kong\")"
   ]
  },
  {
   "cell_type": "code",
   "execution_count": 6,
   "id": "a85ac191-166a-4d7e-b009-9bbd3e9d06fb",
   "metadata": {},
   "outputs": [],
   "source": [
    "# Pull latest games from IGN\n",
    "latest_reviews = get_latest_reviews_from_ign()"
   ]
  },
  {
   "cell_type": "code",
   "execution_count": 8,
   "id": "a8f30d40-7407-4548-b538-076063f73c7b",
   "metadata": {},
   "outputs": [
    {
     "data": {
      "text/plain": [
       "'/games/helldivers-ii'"
      ]
     },
     "execution_count": 8,
     "metadata": {},
     "output_type": "execute_result"
    }
   ],
   "source": [
    "soup = get_game_review_soup_from_ign(\"https://www.ign.com/articles/helldivers-2-review\")\n",
    "soup.find(\"a\", class_=\"article-object-link\").get(\"href\")"
   ]
  },
  {
   "cell_type": "code",
   "execution_count": 9,
   "id": "ed46d70d-9053-42f4-929b-aae600247f09",
   "metadata": {},
   "outputs": [],
   "source": [
    "response = requests.get(\"https://www.ign.com/games/helldivers-ii\", headers={\"User-Agent\": \"Mac Firefox\"})\n",
    "soup = BeautifulSoup(response.content, \"html.parser\")"
   ]
  },
  {
   "cell_type": "code",
   "execution_count": 14,
   "id": "9660d97a-8456-4966-9fe8-d34615272d1a",
   "metadata": {},
   "outputs": [
    {
     "data": {
      "text/plain": [
       "<img alt=\"Helldivers II\" class=\"jsx-2920405963 progressive-image object-image jsx-405688819 expand\" decoding=\"async\" src=\"https://assets-prd.ignimgs.com/2023/05/25/helldivers2-1684972836077.jpg?width=300&amp;crop=1%3A1%2Csmart&amp;auto=webp\" srcset=\"https://assets-prd.ignimgs.com/2023/05/25/helldivers2-1684972836077.jpg?width=300&amp;crop=1%3A1%2Csmart&amp;auto=webp 1x, https://assets-prd.ignimgs.com/2023/05/25/helldivers2-1684972836077.jpg?width=300&amp;crop=1%3A1%2Csmart&amp;auto=webp&amp;dpr=2 2x\"/>"
      ]
     },
     "execution_count": 14,
     "metadata": {},
     "output_type": "execute_result"
    }
   ],
   "source": [
    "soup.find(class_=\"progressive-image\")"
   ]
  },
  {
   "cell_type": "code",
   "execution_count": 7,
   "id": "2a1dbe35-4e03-435e-8ab1-80e686f34122",
   "metadata": {},
   "outputs": [
    {
     "data": {
      "text/plain": [
       "{'Pros': {'L': [{'S': 'Beautifully done scares, especially when played alone in a dark room with headphones'},\n",
       "   {'S': 'Tense atmosphere in the exploration of the creepy house'},\n",
       "   {'S': 'Randomized events and spooky interactions add to the unsettling experience'},\n",
       "   {'S': 'Voice recognition system adds an intriguing feature'}]},\n",
       " 'RoboScore': {'N': '7'},\n",
       " 'ReviewPublisherName': {'S': 'IGN'},\n",
       " 'Cons': {'L': [{'S': 'Underwhelming first half with strange choices and dull opening cinematic'},\n",
       "   {'S': 'Awful dialogue and unconvincing delivery by the character'},\n",
       "   {'S': 'Clumsy and predictable story with lack of replayability'},\n",
       "   {'S': 'Voice recognition system not functioning properly'}]},\n",
       " 'GameTitle': {'S': 'Supernormal'},\n",
       " 'GameReleaseDate': {'S': '2024-01-08'}}"
      ]
     },
     "execution_count": 7,
     "metadata": {},
     "output_type": "execute_result"
    }
   ],
   "source": [
    "game_title = \"Prince of Persia: The Lost Crown\"\n",
    "review_publisher = \"IGN\"\n",
    "review = Reviews().get_review_by_game_title_and_reviewer_name(\"Supernormal\", review_publisher)\n",
    "review"
   ]
  },
  {
   "cell_type": "code",
   "execution_count": null,
   "id": "ae9f9b14-5442-48cd-a0ea-b3043ff0907d",
   "metadata": {},
   "outputs": [],
   "source": []
  },
  {
   "cell_type": "code",
   "execution_count": null,
   "id": "fdcfd8c5-5300-4fd6-94b3-9cc2635c8dc3",
   "metadata": {},
   "outputs": [],
   "source": []
  },
  {
   "cell_type": "code",
   "execution_count": 9,
   "id": "7bb21af6-04b8-4790-9bea-c6bd7d3d1c3d",
   "metadata": {},
   "outputs": [
    {
     "data": {
      "text/plain": [
       "[{'title': 'Another Code: Recollection',\n",
       "  'href': '/articles/another-code-recollection-review'},\n",
       " {'title': 'Turnip Boy Robs a Bank',\n",
       "  'href': '/articles/turnip-boy-robs-a-bank-review'},\n",
       " {'title': 'Prince of Persia: The Lost Crown',\n",
       "  'href': '/articles/prince-of-persia-the-lost-crown-review'},\n",
       " {'title': 'Supernormal', 'href': '/articles/supernormal-review'},\n",
       " {'title': 'PlayStation 5 Slim', 'href': '/articles/playstation-5-review'}]"
      ]
     },
     "execution_count": 9,
     "metadata": {},
     "output_type": "execute_result"
    }
   ],
   "source": [
    "latest_reviews"
   ]
  },
  {
   "cell_type": "code",
   "execution_count": 14,
   "id": "288406c9-e2d1-4fd6-86ca-27cc525b53e9",
   "metadata": {},
   "outputs": [
    {
     "name": "stdout",
     "output_type": "stream",
     "text": [
      "Item already exists 2024-01-19_Another Code: Recollection\n",
      "Item already exists 2024-01-18_Turnip Boy Robs a Bank\n",
      "Item already exists 2024-01-18_Prince of Persia: The Lost Crown\n",
      "Item already exists 2024-01-08_Supernormal\n"
     ]
    },
    {
     "name": "stderr",
     "output_type": "stream",
     "text": [
      "No game found with title 'PlayStation 5 Slim'\n",
      "Request failed with url: https://www.metacritic.com/browse/games/playstation-5-slim\n"
     ]
    },
    {
     "name": "stdout",
     "output_type": "stream",
     "text": [
      "404 Client Error: Not Found for url: https://www.metacritic.com/game/playstation-5-slim/\n",
      "Item already exists NoRelease_PlayStation 5 Slim\n"
     ]
    }
   ],
   "source": [
    "# For each review, create a game entry if does not exist\n",
    "for review in latest_reviews:\n",
    "    game_title = review['title']\n",
    "    logger.info(game_title)\n",
    "    game_release_date = None\n",
    "    try:\n",
    "        game_release_date = igdb_service.get_first_release_date_by_title(game_title).strftime(\"%Y-%m-%d\")\n",
    "    except requests.exceptions.HTTPError as e:\n",
    "        logger.error(e)\n",
    "    except ValueError as e:\n",
    "        logger.error(e)\n",
    "    if not game_release_date:\n",
    "        # if pulling release_date from igdb service failed, try metacritic\n",
    "        try:\n",
    "            logger.info(\"Querying metacritic for game release date\")\n",
    "            game_release_date = get_game_release_date_from_metacritic(game_title)\n",
    "            game_release_date = game_release_date.strftime(\"%Y-%m-%d\")\n",
    "        except requests.exceptions.HTTPError as e:\n",
    "            logger.error(e)\n",
    "        except ValueError as e:\n",
    "            logger.error(e)\n",
    "\n",
    "    if not game_release_date:\n",
    "        # If fail to pull release date from meta critic and API, mark as no release date\n",
    "        game_release_date = 'NoRelease'\n",
    "    \n",
    "    logger.info(game_release_date)\n",
    "    logger.info(game_release_date + '_' + game_title)\n",
    "\n",
    "    games_response = GameReleaseDate().write_item(game_release_date + '_' + game_title)\n",
    "    logger.info(f\"Writing review to db for {review['title']}\")\n",
    "    # Scrape review from site. \n",
    "    # Would be nice if review already exists NOT to call openAI api. \n",
    "    # Check if review exists for review. \n",
    "    review_in_db = Reviews().get_review_by_game_title_and_reviewer_name(game_title=game_title, review_publisher_name=\"IGN\")\n",
    "    if review_in_db:\n",
    "        # if review does not exist, continue to next in loop.\n",
    "        logger.info(f\"Review found for game {game_title} published by IGN\")\n",
    "        continue\n",
    "\n",
    "    review_url = \"https://www.ign.com\" + review['href']\n",
    "    logger.info(f\"Scrape review from {review_url}\")\n",
    "    game_review_content = None\n",
    "    try:\n",
    "        game_review_content = get_game_review_content_from_ign(review_url)\n",
    "    except requests.exceptions.HTTPError as e:\n",
    "        logger.error(e)\n",
    "    \n",
    "    if game_review_content:    \n",
    "        # Get roboscore from open ai\n",
    "        score_json = openai_service.assign_score_to_content(game_review_content)\n",
    "        score = score_json[\"score\"]\n",
    "            \n",
    "        # Send content to OpenAI API. \n",
    "        pros_cons_json = openai_service.extract_review_pros_and_cons(game_review_content)\n",
    "    \n",
    "        # Parse pros cons list\n",
    "        # Create a list of tuples with review_id, text\n",
    "        pros = pros_cons_json[\"pros\"]\n",
    "        cons = pros_cons_json[\"cons\"]\n",
    "    \n",
    "        reviews_response = Reviews().write_item(game_title=game_title,\n",
    "                             review_publisher_name=\"IGN\",\n",
    "                             game_release_date=game_release_date,\n",
    "                             list_of_pros=pros,\n",
    "                             list_of_cons=cons,\n",
    "                             roboscore=score)\n",
    "        logger.info(reviews_response)\n",
    "\n"
   ]
  },
  {
   "cell_type": "code",
   "execution_count": null,
   "id": "594d0f55-f274-46dd-a47d-4787c42c05e6",
   "metadata": {},
   "outputs": [],
   "source": [
    "game = get_game_by_title(connection, 'The Finals')\n",
    "print(game)"
   ]
  },
  {
   "cell_type": "code",
   "execution_count": null,
   "id": "770db86d-d8f6-45f7-a4fa-d6f3e648e5d1",
   "metadata": {},
   "outputs": [],
   "source": [
    "the_finals_release_date = igdb_service.get_game_release_date_by_title('The Finals')"
   ]
  },
  {
   "cell_type": "code",
   "execution_count": null,
   "id": "d9b005fa-a745-4b8f-a358-5551466167ea",
   "metadata": {},
   "outputs": [],
   "source": [
    "create_game(connection, {\"title\": \"The Finals\", \"release_date\": the_finals_release_date})"
   ]
  },
  {
   "cell_type": "code",
   "execution_count": null,
   "id": "f91740e1-7d5c-461e-9c3f-658214706baa",
   "metadata": {},
   "outputs": [],
   "source": [
    "get_latest_reviews_from_ign()"
   ]
  },
  {
   "cell_type": "code",
   "execution_count": null,
   "id": "1c4b0382-94b4-441a-8de3-c2f6ad18564a",
   "metadata": {},
   "outputs": [],
   "source": [
    "igdb_service.get_game_release_date_by_title(\"Resident Evil 4 Remake VR\")"
   ]
  },
  {
   "cell_type": "code",
   "execution_count": null,
   "id": "fcb2dce1-f395-4a9f-9dfc-d2288635ac5d",
   "metadata": {},
   "outputs": [],
   "source": [
    "game = []\n",
    "game[0]"
   ]
  },
  {
   "cell_type": "code",
   "execution_count": null,
   "id": "edf08a02-4d86-496f-ad61-b04805b205a4",
   "metadata": {},
   "outputs": [],
   "source": [
    "r = requests.get('http://www.google.com/nothere')\n",
    "r.status_code"
   ]
  },
  {
   "cell_type": "code",
   "execution_count": null,
   "id": "3cf6e219-007c-4a86-adfa-5562bd5fd358",
   "metadata": {},
   "outputs": [],
   "source": [
    "ign_latest_reviews_url = \"https://www.ign.com/reviews/games\"\n",
    "header_mapping = {\"User-Agent\": \"Mac Firefox\"}\n",
    "\n",
    "ign_latest_reviews_html = requests.get(\n",
    "        ign_latest_reviews_url, headers=header_mapping\n",
    "    )\n",
    "ign_latest_reivews_soup = BeautifulSoup(\n",
    "        ign_latest_reviews_html.content, \"html.parser\"\n",
    "    )\n",
    "latest_reviews_a_tag_list = ign_latest_reivews_soup.find(\n",
    "        class_=\"main-content\"\n",
    "    ).find_all(\"a\")\n",
    "\n",
    "filter_latest_reviews_a_tag = filter(\n",
    "        lambda x: bool(x.get(\"aria-label\")), latest_reviews_a_tag_list\n",
    "    )\n",
    "\n",
    "filtered_a_tags = list(filter_latest_reviews_a_tag)\n"
   ]
  },
  {
   "cell_type": "code",
   "execution_count": null,
   "id": "36c10fb6-f6a7-4d63-9adc-79d571cd2131",
   "metadata": {},
   "outputs": [],
   "source": [
    "filtered_a_tags[0].find(class_=\"item-publish-date\").text"
   ]
  },
  {
   "cell_type": "code",
   "execution_count": null,
   "id": "73470e79-5e9f-491d-9bcd-6477e4dae5d3",
   "metadata": {},
   "outputs": [],
   "source": [
    "from datetime import datetime"
   ]
  },
  {
   "cell_type": "code",
   "execution_count": null,
   "id": "550160a4-e06c-4249-ad8d-bee9d6a1cda6",
   "metadata": {},
   "outputs": [],
   "source": [
    "datetime.strptime(\"5d ago\", \"%b %d, %Y\").date().strftime(\"%Y-%m-%d\")"
   ]
  },
  {
   "cell_type": "code",
   "execution_count": null,
   "id": "d7457c34-d884-4194-b7d6-c082897f27d8",
   "metadata": {},
   "outputs": [],
   "source": [
    "# If error thrown trying to convert datetime, parse as '5d ago'\n",
    "\"11d ago\".split(\"d\")"
   ]
  },
  {
   "cell_type": "code",
   "execution_count": null,
   "id": "803b642d-e307-4e3c-b742-3e41af7ce486",
   "metadata": {},
   "outputs": [],
   "source": [
    "datetime."
   ]
  },
  {
   "cell_type": "code",
   "execution_count": null,
   "id": "92f9c4eb-b6d2-4453-9106-ab0b6f9d6286",
   "metadata": {},
   "outputs": [],
   "source": [
    "GameReleaseDate().get_recent_games()"
   ]
  },
  {
   "cell_type": "code",
   "execution_count": null,
   "id": "834bb699-2a49-4530-8112-4020effdae32",
   "metadata": {},
   "outputs": [],
   "source": []
  }
 ],
 "metadata": {
  "kernelspec": {
   "display_name": "Python 3 (ipykernel)",
   "language": "python",
   "name": "python3"
  },
  "language_info": {
   "codemirror_mode": {
    "name": "ipython",
    "version": 3
   },
   "file_extension": ".py",
   "mimetype": "text/x-python",
   "name": "python",
   "nbconvert_exporter": "python",
   "pygments_lexer": "ipython3",
   "version": "3.9.13"
  }
 },
 "nbformat": 4,
 "nbformat_minor": 5
}
