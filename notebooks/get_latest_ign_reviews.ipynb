{
 "cells": [
  {
   "cell_type": "code",
   "execution_count": 1,
   "id": "4f28ce68-fe9b-45f3-955b-742e08da020d",
   "metadata": {},
   "outputs": [
    {
     "data": {
      "text/plain": [
       "'\\nScript to extract recent game review from IGN\\n'"
      ]
     },
     "execution_count": 1,
     "metadata": {},
     "output_type": "execute_result"
    }
   ],
   "source": [
    "\"\"\"\n",
    "Script to extract recent game review from IGN\n",
    "\"\"\""
   ]
  },
  {
   "cell_type": "code",
   "execution_count": 2,
   "id": "866106c3-93b7-4356-b823-6095512daa13",
   "metadata": {},
   "outputs": [],
   "source": [
    "import os\n",
    "os.getcwd()\n",
    "os.chdir(\"/Users/natepruitt/Projects/robocritic/\")"
   ]
  },
  {
   "cell_type": "code",
   "execution_count": 3,
   "id": "54791b0c-0229-4ae6-a390-58b2b1928f5e",
   "metadata": {},
   "outputs": [
    {
     "data": {
      "text/plain": [
       "True"
      ]
     },
     "execution_count": 3,
     "metadata": {},
     "output_type": "execute_result"
    }
   ],
   "source": [
    "from dotenv import load_dotenv\n",
    "load_dotenv()"
   ]
  },
  {
   "cell_type": "code",
   "execution_count": 4,
   "id": "4393d633-2e6a-41f4-8116-ef7cfde7ac7a",
   "metadata": {},
   "outputs": [
    {
     "name": "stdout",
     "output_type": "stream",
     "text": [
      "Connection to MySQL DB successful\n"
     ]
    }
   ],
   "source": [
    "# Imports\n",
    "import requests\n",
    "from settings import settings\n",
    "from bs4 import BeautifulSoup\n",
    "from helper_functions.db_connection import connection\n",
    "from helper_functions.query_functions import get_publisher_by_id, get_game_by_title, get_review_by_game_id_and_publisher_id, GameReleaseDate, Reviews\n",
    "from helper_functions.igdb_service import IGDBService\n",
    "from helper_functions.scraping_utils import get_latest_reviews_from_ign, get_game_review_content_from_ign\n",
    "from helper_functions.write_functions import create_game, create_review, write_review_pros_to_db, write_review_cons_to_db\n",
    "from helper_functions.openai_service import OpenAIService\n",
    "from datetime import datetime"
   ]
  },
  {
   "cell_type": "code",
   "execution_count": 5,
   "id": "ba2806e3-2832-4a4e-a38d-fa09fd46eaa8",
   "metadata": {},
   "outputs": [],
   "source": [
    "# retrieve the game release date from igdb API\n",
    "igdb_service = IGDBService(connection)\n",
    "\n",
    "# Instantiate OpenAI service\n",
    "openai_service = OpenAIService()"
   ]
  },
  {
   "cell_type": "code",
   "execution_count": 6,
   "id": "a85ac191-166a-4d7e-b009-9bbd3e9d06fb",
   "metadata": {},
   "outputs": [],
   "source": [
    "# Pull latest games from IGN\n",
    "publisher = get_publisher_by_id(connection, settings.ign_publisher_id)\n",
    "latest_reviews = get_latest_reviews_from_ign()"
   ]
  },
  {
   "cell_type": "code",
   "execution_count": null,
   "id": "2a1dbe35-4e03-435e-8ab1-80e686f34122",
   "metadata": {},
   "outputs": [],
   "source": [
    "game_title = \"Prince of Persia: The Lost Crown\"\n",
    "review_publisher = \"IGN\"\n",
    "review = Reviews().get_review_by_game_title_and_reviewer_name(game_title, review_publisher)\n",
    "review"
   ]
  },
  {
   "cell_type": "code",
   "execution_count": 8,
   "id": "7bb21af6-04b8-4790-9bea-c6bd7d3d1c3d",
   "metadata": {},
   "outputs": [
    {
     "data": {
      "text/plain": [
       "[{'title': 'Prince of Persia: The Lost Crown',\n",
       "  'href': '/articles/prince-of-persia-the-lost-crown-review'},\n",
       " {'title': 'Supernormal', 'href': '/articles/supernormal-review'}]"
      ]
     },
     "execution_count": 8,
     "metadata": {},
     "output_type": "execute_result"
    }
   ],
   "source": [
    "latest_reviews[0:2]"
   ]
  },
  {
   "cell_type": "code",
   "execution_count": 12,
   "id": "288406c9-e2d1-4fd6-86ca-27cc525b53e9",
   "metadata": {},
   "outputs": [
    {
     "name": "stdout",
     "output_type": "stream",
     "text": [
      "Prince of Persia: The Lost Crown\n",
      "2024-01-16\n",
      "2024-01-16_Prince of Persia: The Lost Crown\n",
      "Item already exists 2024-01-16_Prince of Persia: The Lost Crown\n",
      "{'Error': {'Message': 'The conditional request failed', 'Code': 'ConditionalCheckFailedException'}, 'ResponseMetadata': {'RequestId': '66I4OOGITT6C2PS5UM5598O82JVV4KQNSO5AEMVJF66Q9ASUAAJG', 'HTTPStatusCode': 400, 'HTTPHeaders': {'server': 'Server', 'date': 'Tue, 16 Jan 2024 14:09:44 GMT', 'content-type': 'application/x-amz-json-1.0', 'content-length': '120', 'connection': 'keep-alive', 'x-amzn-requestid': '66I4OOGITT6C2PS5UM5598O82JVV4KQNSO5AEMVJF66Q9ASUAAJG', 'x-amz-crc32': '396270901'}, 'RetryAttempts': 0}, 'message': 'The conditional request failed'}\n",
      "Writing review to db for Prince of Persia: The Lost Crown\n",
      "Review found for game Prince of Persia: The Lost Crown published by IGN\n",
      "Supernormal\n"
     ]
    },
    {
     "ename": "KeyError",
     "evalue": "'first_release_date'",
     "output_type": "error",
     "traceback": [
      "\u001b[0;31m---------------------------------------------------------------------------\u001b[0m",
      "\u001b[0;31mKeyError\u001b[0m                                  Traceback (most recent call last)",
      "Cell \u001b[0;32mIn[12], line 6\u001b[0m\n\u001b[1;32m      4\u001b[0m \u001b[38;5;28mprint\u001b[39m(game_title)\n\u001b[1;32m      5\u001b[0m \u001b[38;5;28;01mtry\u001b[39;00m:\n\u001b[0;32m----> 6\u001b[0m     game_release_date \u001b[38;5;241m=\u001b[39m \u001b[43migdb_service\u001b[49m\u001b[38;5;241;43m.\u001b[39;49m\u001b[43mget_first_release_date_by_title\u001b[49m\u001b[43m(\u001b[49m\u001b[43mgame_title\u001b[49m\u001b[43m)\u001b[49m\n\u001b[1;32m      7\u001b[0m \u001b[38;5;28;01mexcept\u001b[39;00m \u001b[38;5;167;01mValueError\u001b[39;00m \u001b[38;5;28;01mas\u001b[39;00m e:\n\u001b[1;32m      8\u001b[0m         \u001b[38;5;28mprint\u001b[39m(e)\n",
      "File \u001b[0;32m~/Projects/robocritic/helper_functions/igdb_service.py:72\u001b[0m, in \u001b[0;36mIGDBService.get_first_release_date_by_title\u001b[0;34m(self, title)\u001b[0m\n\u001b[1;32m     70\u001b[0m     \u001b[38;5;28;01mraise\u001b[39;00m \u001b[38;5;167;01mValueError\u001b[39;00m(\u001b[38;5;124mf\u001b[39m\u001b[38;5;124m\"\u001b[39m\u001b[38;5;124mNo game found with title \u001b[39m\u001b[38;5;124m'\u001b[39m\u001b[38;5;132;01m{\u001b[39;00mtitle\u001b[38;5;132;01m}\u001b[39;00m\u001b[38;5;124m'\u001b[39m\u001b[38;5;124m\"\u001b[39m)\n\u001b[1;32m     71\u001b[0m game \u001b[38;5;241m=\u001b[39m response\u001b[38;5;241m.\u001b[39mjson()[\u001b[38;5;241m0\u001b[39m]\n\u001b[0;32m---> 72\u001b[0m release_date_unix \u001b[38;5;241m=\u001b[39m \u001b[43mgame\u001b[49m\u001b[43m[\u001b[49m\u001b[38;5;124;43m\"\u001b[39;49m\u001b[38;5;124;43mfirst_release_date\u001b[39;49m\u001b[38;5;124;43m\"\u001b[39;49m\u001b[43m]\u001b[49m\n\u001b[1;32m     73\u001b[0m release_date \u001b[38;5;241m=\u001b[39m datetime\u001b[38;5;241m.\u001b[39mutcfromtimestamp(release_date_unix)\u001b[38;5;241m.\u001b[39mdate()\n\u001b[1;32m     74\u001b[0m \u001b[38;5;28;01mreturn\u001b[39;00m release_date\n",
      "\u001b[0;31mKeyError\u001b[0m: 'first_release_date'"
     ]
    }
   ],
   "source": [
    "# For each review, create a game entry if does not exist\n",
    "for review in latest_reviews[0:2]:\n",
    "    game_title = review['title']\n",
    "    print(game_title)\n",
    "    # Problem! Everytime I call this section of code, and there is NO game_release_date, it will result in a NEW entry into the 'Games'\n",
    "    # table, since its creating a new date which, in combination with the game title, will create a new parition key.\n",
    "    # Can I write a query function that searches the sort key?\n",
    "    # Could check if it begins with previous date + game. But that no good. \n",
    "    # If a review exists, could assume it is in games. That is probably fair. Do not execute at all if a review exists for the specific\n",
    "    # review + publisher. I might be able to check with 'CONTAINS' operator in query.\n",
    "    try:\n",
    "        game_release_date = igdb_service.get_first_release_date_by_title(game_title)\n",
    "    except ValueError as e:\n",
    "        print(e)\n",
    "        game_release_date = datetime.today().date().strftime(\"%Y-%m-%d\")\n",
    "    \n",
    "    print(game_release_date)\n",
    "    print(game_release_date + '_' + game_title)\n",
    "\n",
    "    games_response = GameReleaseDate().write_item(game_release_date + '_' + game_title)\n",
    "    print(games_response)\n",
    "    print(f\"Writing review to db for {review['title']}\")\n",
    "    # Scrape review from site. \n",
    "    # Would be nice if review already exists NOT to call openAI api. \n",
    "    # Check if review exists for review. \n",
    "    review = Reviews().get_review_by_game_title_and_reviewer_name(game_title=game_title, review_publisher_name=\"IGN\")\n",
    "    \n",
    "    if review:\n",
    "        # if review does not exist, continue to next in loop.\n",
    "        print(f\"Review found for game {game_title} published by IGN\")\n",
    "        continue\n",
    "\n",
    "    review_url = ign_url + review['href']\n",
    "    print(f\"Scrape review from {review_url}\")\n",
    "    game_review_content = get_game_review_content_from_ign(review_url)\n",
    "\n",
    "    \n",
    "    # Get roboscore from open ai\n",
    "    score_json = openai_service.assign_score_to_content(game_review_content)\n",
    "    score = score_json[\"score\"]\n",
    "        \n",
    "    # Send content to OpenAI API. \n",
    "    pros_cons_json = openai_service.extract_review_pros_and_cons(game_review_content)\n",
    "\n",
    "    # Parse pros cons list\n",
    "    # Create a list of tuples with review_id, text\n",
    "    pros = pros_cons_json[\"pros\"]\n",
    "    cons = pros_cons_json[\"cons\"]\n",
    "\n",
    "    reviews_response = Reviews().write_item(game_title=game_title,\n",
    "                         review_publisher_name=\"IGN\",\n",
    "                         game_release_date=game_release_date,\n",
    "                         list_of_pros=pros,\n",
    "                         list_of_cons=cons,\n",
    "                         roboscore=score)\n",
    "    print(reviews_response)\n",
    "    # Create review in DB\n",
    "    # db_review = {\"game_id\": game_id, \"url\": review_url, \"publisher_id\": settings.ign_publisher_id, \"robo_score\": score}\n",
    "    # print(f\"Create review in db out of review object {db_review}\")\n",
    "    # review_id = create_review(connection, db_review)\n",
    "\n"
   ]
  },
  {
   "cell_type": "code",
   "execution_count": null,
   "id": "594d0f55-f274-46dd-a47d-4787c42c05e6",
   "metadata": {},
   "outputs": [],
   "source": [
    "game = get_game_by_title(connection, 'The Finals')\n",
    "print(game)"
   ]
  },
  {
   "cell_type": "code",
   "execution_count": null,
   "id": "770db86d-d8f6-45f7-a4fa-d6f3e648e5d1",
   "metadata": {},
   "outputs": [],
   "source": [
    "the_finals_release_date = igdb_service.get_game_release_date_by_title('The Finals')"
   ]
  },
  {
   "cell_type": "code",
   "execution_count": null,
   "id": "d9b005fa-a745-4b8f-a358-5551466167ea",
   "metadata": {},
   "outputs": [],
   "source": [
    "create_game(connection, {\"title\": \"The Finals\", \"release_date\": the_finals_release_date})"
   ]
  },
  {
   "cell_type": "code",
   "execution_count": null,
   "id": "f91740e1-7d5c-461e-9c3f-658214706baa",
   "metadata": {},
   "outputs": [],
   "source": [
    "get_latest_reviews_from_ign()"
   ]
  },
  {
   "cell_type": "code",
   "execution_count": null,
   "id": "1c4b0382-94b4-441a-8de3-c2f6ad18564a",
   "metadata": {},
   "outputs": [],
   "source": [
    "igdb_service.get_game_release_date_by_title(\"Resident Evil 4 Remake VR\")"
   ]
  },
  {
   "cell_type": "code",
   "execution_count": null,
   "id": "fcb2dce1-f395-4a9f-9dfc-d2288635ac5d",
   "metadata": {},
   "outputs": [],
   "source": [
    "game = []\n",
    "game[0]"
   ]
  },
  {
   "cell_type": "code",
   "execution_count": null,
   "id": "edf08a02-4d86-496f-ad61-b04805b205a4",
   "metadata": {},
   "outputs": [],
   "source": [
    "r = requests.get('http://www.google.com/nothere')\n",
    "r.status_code"
   ]
  },
  {
   "cell_type": "code",
   "execution_count": null,
   "id": "3cf6e219-007c-4a86-adfa-5562bd5fd358",
   "metadata": {},
   "outputs": [],
   "source": []
  }
 ],
 "metadata": {
  "kernelspec": {
   "display_name": "Python 3 (ipykernel)",
   "language": "python",
   "name": "python3"
  },
  "language_info": {
   "codemirror_mode": {
    "name": "ipython",
    "version": 3
   },
   "file_extension": ".py",
   "mimetype": "text/x-python",
   "name": "python",
   "nbconvert_exporter": "python",
   "pygments_lexer": "ipython3",
   "version": "3.9.13"
  }
 },
 "nbformat": 4,
 "nbformat_minor": 5
}
