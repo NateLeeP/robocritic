{
 "cells": [
  {
   "cell_type": "code",
   "execution_count": 2,
   "id": "68792e75-c7a3-46e0-9ad0-7a20fce1d59c",
   "metadata": {},
   "outputs": [],
   "source": [
    "import requests\n",
    "from bs4 import BeautifulSoup"
   ]
  },
  {
   "cell_type": "code",
   "execution_count": 3,
   "id": "8f8fd155-9747-4e23-bdf5-c6cfe14afac1",
   "metadata": {},
   "outputs": [],
   "source": [
    "headers = {\"User-Agent\": \"Mac Firefox\"}"
   ]
  },
  {
   "cell_type": "code",
   "execution_count": 42,
   "id": "7e4e8044-d23a-45a6-82e1-dabccaceaf59",
   "metadata": {},
   "outputs": [],
   "source": [
    "response = requests.get(\"https://www.metacritic.com/game/supernormal/\", headers=headers)"
   ]
  },
  {
   "cell_type": "code",
   "execution_count": 43,
   "id": "1afdd48d-424d-4bb5-b49a-3f1053f56a9e",
   "metadata": {},
   "outputs": [
    {
     "data": {
      "text/plain": [
       "[<div class=\"c-adClose g-text-xsmall g-inner-spacing-xsmall o-omnibar-bottom-close\" style=\"display:none;\"><svg class=\"g-fill-white g-outer-spacing-right-xsmall\"><use xlink:href=\"#close\"></use></svg> <span>Close Ad</span></div>,\n",
       " <div class=\"g-text-xsmall\"><span class=\"g-text-bold\">Released On: </span> <span class=\"u-text-uppercase\">Jan 8, 2024</span></div>]"
      ]
     },
     "execution_count": 43,
     "metadata": {},
     "output_type": "execute_result"
    }
   ],
   "source": [
    "soup = BeautifulSoup(response.content, 'html.parser')\n",
    "soup.find_all('div', class_='g-text-xsmall')"
   ]
  },
  {
   "cell_type": "code",
   "execution_count": 44,
   "id": "a06a2d09-8d1e-4301-92c1-8c3b03828314",
   "metadata": {},
   "outputs": [
    {
     "data": {
      "text/plain": [
       "['c-adClose',\n",
       " 'g-text-xsmall',\n",
       " 'g-inner-spacing-xsmall',\n",
       " 'o-omnibar-bottom-close']"
      ]
     },
     "execution_count": 44,
     "metadata": {},
     "output_type": "execute_result"
    }
   ],
   "source": [
    "soup.select('.g-text-xsmall:has(span)')[0]['class']"
   ]
  },
  {
   "cell_type": "code",
   "execution_count": 61,
   "id": "f87de9bd-6468-435b-8f3b-1586e05a4b34",
   "metadata": {},
   "outputs": [
    {
     "data": {
      "text/plain": [
       "'Jan 8, 2024'"
      ]
     },
     "execution_count": 61,
     "metadata": {},
     "output_type": "execute_result"
    }
   ],
   "source": [
    "soup.find(lambda tag: tag.name == 'span' and tag.has_attr('class') and tag['class'] == ['u-text-uppercase']).text"
   ]
  },
  {
   "cell_type": "code",
   "execution_count": 49,
   "id": "41493657-aebf-4576-ace2-aff832053f8e",
   "metadata": {},
   "outputs": [
    {
     "data": {
      "text/plain": [
       "'final-fantasy-xvi-echoes-of-the-fallen'"
      ]
     },
     "execution_count": 49,
     "metadata": {},
     "output_type": "execute_result"
    }
   ],
   "source": [
    "\"Final Fantasy XVI: Echoes of the Fallen\".lower().replace(\":\", \"\").replace(\" \", \"-\")"
   ]
  },
  {
   "cell_type": "code",
   "execution_count": 55,
   "id": "d4b7d57a-8a1b-4f9a-a4d5-0a92c16ce671",
   "metadata": {},
   "outputs": [
    {
     "data": {
      "text/plain": [
       "'while-the-irons-hot'"
      ]
     },
     "execution_count": 55,
     "metadata": {},
     "output_type": "execute_result"
    }
   ],
   "source": [
    "\"While the Iron's Hot\".lower().replace(\":\", \"\").replace(\"'\", \"\").replace(\" \", \"-\")"
   ]
  },
  {
   "cell_type": "code",
   "execution_count": 56,
   "id": "6098da4c-cbee-4972-96a4-40b65a6589c3",
   "metadata": {},
   "outputs": [],
   "source": [
    "import datetime "
   ]
  },
  {
   "cell_type": "code",
   "execution_count": 60,
   "id": "65de06ff-a985-44cc-9332-49e29c2d2b84",
   "metadata": {},
   "outputs": [
    {
     "ename": "TypeError",
     "evalue": "unsupported operand type(s) for +: 'datetime.date' and 'str'",
     "output_type": "error",
     "traceback": [
      "\u001b[0;31m---------------------------------------------------------------------------\u001b[0m",
      "\u001b[0;31mTypeError\u001b[0m                                 Traceback (most recent call last)",
      "Cell \u001b[0;32mIn[60], line 1\u001b[0m\n\u001b[0;32m----> 1\u001b[0m \u001b[43mdatetime\u001b[49m\u001b[38;5;241;43m.\u001b[39;49m\u001b[43mdatetime\u001b[49m\u001b[38;5;241;43m.\u001b[39;49m\u001b[43mnow\u001b[49m\u001b[43m(\u001b[49m\u001b[43m)\u001b[49m\u001b[38;5;241;43m.\u001b[39;49m\u001b[43mdate\u001b[49m\u001b[43m(\u001b[49m\u001b[43m)\u001b[49m\u001b[43m \u001b[49m\u001b[38;5;241;43m+\u001b[39;49m\u001b[43m \u001b[49m\u001b[38;5;124;43m\"\u001b[39;49m\u001b[38;5;124;43m_\u001b[39;49m\u001b[38;5;124;43m\"\u001b[39;49m\n",
      "\u001b[0;31mTypeError\u001b[0m: unsupported operand type(s) for +: 'datetime.date' and 'str'"
     ]
    }
   ],
   "source": [
    "datetime.datetime.now().date() + \"_\""
   ]
  },
  {
   "cell_type": "code",
   "execution_count": 64,
   "id": "9c664870-55d9-456c-bc0a-d6d595fed664",
   "metadata": {},
   "outputs": [
    {
     "data": {
      "text/plain": [
       "'2024-01-08'"
      ]
     },
     "execution_count": 64,
     "metadata": {},
     "output_type": "execute_result"
    }
   ],
   "source": [
    "datetime.datetime.strptime(\"Jan 8, 2024\", \"%b %d, %Y\").date().strftime(\"%Y-%m-%d\")"
   ]
  },
  {
   "cell_type": "code",
   "execution_count": null,
   "id": "107871e4-3800-4de0-894f-71d65111297f",
   "metadata": {},
   "outputs": [],
   "source": []
  }
 ],
 "metadata": {
  "kernelspec": {
   "display_name": "Python 3 (ipykernel)",
   "language": "python",
   "name": "python3"
  },
  "language_info": {
   "codemirror_mode": {
    "name": "ipython",
    "version": 3
   },
   "file_extension": ".py",
   "mimetype": "text/x-python",
   "name": "python",
   "nbconvert_exporter": "python",
   "pygments_lexer": "ipython3",
   "version": "3.9.13"
  }
 },
 "nbformat": 4,
 "nbformat_minor": 5
}
